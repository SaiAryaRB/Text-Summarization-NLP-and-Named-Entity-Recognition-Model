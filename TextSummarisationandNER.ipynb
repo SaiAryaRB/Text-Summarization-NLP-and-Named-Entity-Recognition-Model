{
  "cells": [
    {
      "cell_type": "markdown",
      "metadata": {
        "id": "Xse_4dudEozd"
      },
      "source": [
        "# IMPORTING LIBRARIES"
      ]
    },
    {
      "cell_type": "code",
      "execution_count": null,
      "metadata": {
        "colab": {
          "base_uri": "https://localhost:8080/"
        },
        "id": "gjAJSLUIbO7Y",
        "outputId": "cf73bd00-f90c-4c79-8a05-203324493eb2"
      },
      "outputs": [
        {
          "name": "stdout",
          "output_type": "stream",
          "text": [
            "Requirement already satisfied: transformers in /usr/local/lib/python3.10/dist-packages (4.40.0)\n",
            "Requirement already satisfied: filelock in /usr/local/lib/python3.10/dist-packages (from transformers) (3.13.4)\n",
            "Requirement already satisfied: huggingface-hub<1.0,>=0.19.3 in /usr/local/lib/python3.10/dist-packages (from transformers) (0.20.3)\n",
            "Requirement already satisfied: numpy>=1.17 in /usr/local/lib/python3.10/dist-packages (from transformers) (1.25.2)\n",
            "Requirement already satisfied: packaging>=20.0 in /usr/local/lib/python3.10/dist-packages (from transformers) (24.0)\n",
            "Requirement already satisfied: pyyaml>=5.1 in /usr/local/lib/python3.10/dist-packages (from transformers) (6.0.1)\n",
            "Requirement already satisfied: regex!=2019.12.17 in /usr/local/lib/python3.10/dist-packages (from transformers) (2023.12.25)\n",
            "Requirement already satisfied: requests in /usr/local/lib/python3.10/dist-packages (from transformers) (2.31.0)\n",
            "Requirement already satisfied: tokenizers<0.20,>=0.19 in /usr/local/lib/python3.10/dist-packages (from transformers) (0.19.1)\n",
            "Requirement already satisfied: safetensors>=0.4.1 in /usr/local/lib/python3.10/dist-packages (from transformers) (0.4.3)\n",
            "Requirement already satisfied: tqdm>=4.27 in /usr/local/lib/python3.10/dist-packages (from transformers) (4.66.2)\n",
            "Requirement already satisfied: fsspec>=2023.5.0 in /usr/local/lib/python3.10/dist-packages (from huggingface-hub<1.0,>=0.19.3->transformers) (2023.6.0)\n",
            "Requirement already satisfied: typing-extensions>=3.7.4.3 in /usr/local/lib/python3.10/dist-packages (from huggingface-hub<1.0,>=0.19.3->transformers) (4.11.0)\n",
            "Requirement already satisfied: charset-normalizer<4,>=2 in /usr/local/lib/python3.10/dist-packages (from requests->transformers) (3.3.2)\n",
            "Requirement already satisfied: idna<4,>=2.5 in /usr/local/lib/python3.10/dist-packages (from requests->transformers) (3.7)\n",
            "Requirement already satisfied: urllib3<3,>=1.21.1 in /usr/local/lib/python3.10/dist-packages (from requests->transformers) (2.0.7)\n",
            "Requirement already satisfied: certifi>=2017.4.17 in /usr/local/lib/python3.10/dist-packages (from requests->transformers) (2024.2.2)\n"
          ]
        }
      ],
      "source": [
        "pip install transformers"
      ]
    },
    {
      "cell_type": "code",
      "execution_count": null,
      "metadata": {
        "colab": {
          "base_uri": "https://localhost:8080/"
        },
        "id": "Xg7jlPsZbXGw",
        "outputId": "497dbc42-c705-479f-de6f-ed35a59dddb4"
      },
      "outputs": [
        {
          "name": "stdout",
          "output_type": "stream",
          "text": [
            "Collecting datasets\n",
            "  Downloading datasets-2.19.0-py3-none-any.whl (542 kB)\n",
            "\u001b[2K     \u001b[90m━━━━━━━━━━━━━━━━━━━━━━━━━━━━━━━━━━━━━━━━\u001b[0m \u001b[32m542.0/542.0 kB\u001b[0m \u001b[31m2.4 MB/s\u001b[0m eta \u001b[36m0:00:00\u001b[0m\n",
            "\u001b[?25hRequirement already satisfied: filelock in /usr/local/lib/python3.10/dist-packages (from datasets) (3.13.4)\n",
            "Requirement already satisfied: numpy>=1.17 in /usr/local/lib/python3.10/dist-packages (from datasets) (1.25.2)\n",
            "Requirement already satisfied: pyarrow>=12.0.0 in /usr/local/lib/python3.10/dist-packages (from datasets) (14.0.2)\n",
            "Requirement already satisfied: pyarrow-hotfix in /usr/local/lib/python3.10/dist-packages (from datasets) (0.6)\n",
            "Collecting dill<0.3.9,>=0.3.0 (from datasets)\n",
            "  Downloading dill-0.3.8-py3-none-any.whl (116 kB)\n",
            "\u001b[2K     \u001b[90m━━━━━━━━━━━━━━━━━━━━━━━━━━━━━━━━━━━━━━━━\u001b[0m \u001b[32m116.3/116.3 kB\u001b[0m \u001b[31m11.6 MB/s\u001b[0m eta \u001b[36m0:00:00\u001b[0m\n",
            "\u001b[?25hRequirement already satisfied: pandas in /usr/local/lib/python3.10/dist-packages (from datasets) (2.0.3)\n",
            "Requirement already satisfied: requests>=2.19.0 in /usr/local/lib/python3.10/dist-packages (from datasets) (2.31.0)\n",
            "Requirement already satisfied: tqdm>=4.62.1 in /usr/local/lib/python3.10/dist-packages (from datasets) (4.66.2)\n",
            "Collecting xxhash (from datasets)\n",
            "  Downloading xxhash-3.4.1-cp310-cp310-manylinux_2_17_x86_64.manylinux2014_x86_64.whl (194 kB)\n",
            "\u001b[2K     \u001b[90m━━━━━━━━━━━━━━━━━━━━━━━━━━━━━━━━━━━━━━━━\u001b[0m \u001b[32m194.1/194.1 kB\u001b[0m \u001b[31m12.6 MB/s\u001b[0m eta \u001b[36m0:00:00\u001b[0m\n",
            "\u001b[?25hCollecting multiprocess (from datasets)\n",
            "  Downloading multiprocess-0.70.16-py310-none-any.whl (134 kB)\n",
            "\u001b[2K     \u001b[90m━━━━━━━━━━━━━━━━━━━━━━━━━━━━━━━━━━━━━━━━\u001b[0m \u001b[32m134.8/134.8 kB\u001b[0m \u001b[31m11.5 MB/s\u001b[0m eta \u001b[36m0:00:00\u001b[0m\n",
            "\u001b[?25hRequirement already satisfied: fsspec[http]<=2024.3.1,>=2023.1.0 in /usr/local/lib/python3.10/dist-packages (from datasets) (2023.6.0)\n",
            "Requirement already satisfied: aiohttp in /usr/local/lib/python3.10/dist-packages (from datasets) (3.9.5)\n",
            "Collecting huggingface-hub>=0.21.2 (from datasets)\n",
            "  Downloading huggingface_hub-0.22.2-py3-none-any.whl (388 kB)\n",
            "\u001b[2K     \u001b[90m━━━━━━━━━━━━━━━━━━━━━━━━━━━━━━━━━━━━━━━━\u001b[0m \u001b[32m388.9/388.9 kB\u001b[0m \u001b[31m21.0 MB/s\u001b[0m eta \u001b[36m0:00:00\u001b[0m\n",
            "\u001b[?25hRequirement already satisfied: packaging in /usr/local/lib/python3.10/dist-packages (from datasets) (24.0)\n",
            "Requirement already satisfied: pyyaml>=5.1 in /usr/local/lib/python3.10/dist-packages (from datasets) (6.0.1)\n",
            "Requirement already satisfied: aiosignal>=1.1.2 in /usr/local/lib/python3.10/dist-packages (from aiohttp->datasets) (1.3.1)\n",
            "Requirement already satisfied: attrs>=17.3.0 in /usr/local/lib/python3.10/dist-packages (from aiohttp->datasets) (23.2.0)\n",
            "Requirement already satisfied: frozenlist>=1.1.1 in /usr/local/lib/python3.10/dist-packages (from aiohttp->datasets) (1.4.1)\n",
            "Requirement already satisfied: multidict<7.0,>=4.5 in /usr/local/lib/python3.10/dist-packages (from aiohttp->datasets) (6.0.5)\n",
            "Requirement already satisfied: yarl<2.0,>=1.0 in /usr/local/lib/python3.10/dist-packages (from aiohttp->datasets) (1.9.4)\n",
            "Requirement already satisfied: async-timeout<5.0,>=4.0 in /usr/local/lib/python3.10/dist-packages (from aiohttp->datasets) (4.0.3)\n",
            "Requirement already satisfied: typing-extensions>=3.7.4.3 in /usr/local/lib/python3.10/dist-packages (from huggingface-hub>=0.21.2->datasets) (4.11.0)\n",
            "Requirement already satisfied: charset-normalizer<4,>=2 in /usr/local/lib/python3.10/dist-packages (from requests>=2.19.0->datasets) (3.3.2)\n",
            "Requirement already satisfied: idna<4,>=2.5 in /usr/local/lib/python3.10/dist-packages (from requests>=2.19.0->datasets) (3.7)\n",
            "Requirement already satisfied: urllib3<3,>=1.21.1 in /usr/local/lib/python3.10/dist-packages (from requests>=2.19.0->datasets) (2.0.7)\n",
            "Requirement already satisfied: certifi>=2017.4.17 in /usr/local/lib/python3.10/dist-packages (from requests>=2.19.0->datasets) (2024.2.2)\n",
            "Requirement already satisfied: python-dateutil>=2.8.2 in /usr/local/lib/python3.10/dist-packages (from pandas->datasets) (2.8.2)\n",
            "Requirement already satisfied: pytz>=2020.1 in /usr/local/lib/python3.10/dist-packages (from pandas->datasets) (2023.4)\n",
            "Requirement already satisfied: tzdata>=2022.1 in /usr/local/lib/python3.10/dist-packages (from pandas->datasets) (2024.1)\n",
            "Requirement already satisfied: six>=1.5 in /usr/local/lib/python3.10/dist-packages (from python-dateutil>=2.8.2->pandas->datasets) (1.16.0)\n",
            "Installing collected packages: xxhash, dill, multiprocess, huggingface-hub, datasets\n",
            "  Attempting uninstall: huggingface-hub\n",
            "    Found existing installation: huggingface-hub 0.20.3\n",
            "    Uninstalling huggingface-hub-0.20.3:\n",
            "      Successfully uninstalled huggingface-hub-0.20.3\n",
            "Successfully installed datasets-2.19.0 dill-0.3.8 huggingface-hub-0.22.2 multiprocess-0.70.16 xxhash-3.4.1\n"
          ]
        }
      ],
      "source": [
        "pip install datasets"
      ]
    },
    {
      "cell_type": "code",
      "execution_count": null,
      "metadata": {
        "colab": {
          "base_uri": "https://localhost:8080/"
        },
        "id": "xClSIehjbYqD",
        "outputId": "5cf1ea1e-dc0a-4f37-bcd3-c3a8d05b4f58"
      },
      "outputs": [
        {
          "name": "stdout",
          "output_type": "stream",
          "text": [
            "Collecting requests_html\n",
            "  Downloading requests_html-0.10.0-py3-none-any.whl (13 kB)\n",
            "Requirement already satisfied: requests in /usr/local/lib/python3.10/dist-packages (from requests_html) (2.31.0)\n",
            "Collecting pyquery (from requests_html)\n",
            "  Downloading pyquery-2.0.0-py3-none-any.whl (22 kB)\n",
            "Collecting fake-useragent (from requests_html)\n",
            "  Downloading fake_useragent-1.5.1-py3-none-any.whl (17 kB)\n",
            "Collecting parse (from requests_html)\n",
            "  Downloading parse-1.20.1-py2.py3-none-any.whl (20 kB)\n",
            "Collecting bs4 (from requests_html)\n",
            "  Downloading bs4-0.0.2-py2.py3-none-any.whl (1.2 kB)\n",
            "Collecting w3lib (from requests_html)\n",
            "  Downloading w3lib-2.1.2-py3-none-any.whl (21 kB)\n",
            "Collecting pyppeteer>=0.0.14 (from requests_html)\n",
            "  Downloading pyppeteer-2.0.0-py3-none-any.whl (82 kB)\n",
            "\u001b[2K     \u001b[90m━━━━━━━━━━━━━━━━━━━━━━━━━━━━━━━━━━━━━━━━\u001b[0m \u001b[32m82.9/82.9 kB\u001b[0m \u001b[31m1.7 MB/s\u001b[0m eta \u001b[36m0:00:00\u001b[0m\n",
            "\u001b[?25hRequirement already satisfied: appdirs<2.0.0,>=1.4.3 in /usr/local/lib/python3.10/dist-packages (from pyppeteer>=0.0.14->requests_html) (1.4.4)\n",
            "Requirement already satisfied: certifi>=2023 in /usr/local/lib/python3.10/dist-packages (from pyppeteer>=0.0.14->requests_html) (2024.2.2)\n",
            "Requirement already satisfied: importlib-metadata>=1.4 in /usr/local/lib/python3.10/dist-packages (from pyppeteer>=0.0.14->requests_html) (7.1.0)\n",
            "Collecting pyee<12.0.0,>=11.0.0 (from pyppeteer>=0.0.14->requests_html)\n",
            "  Downloading pyee-11.1.0-py3-none-any.whl (15 kB)\n",
            "Requirement already satisfied: tqdm<5.0.0,>=4.42.1 in /usr/local/lib/python3.10/dist-packages (from pyppeteer>=0.0.14->requests_html) (4.66.2)\n",
            "Collecting urllib3<2.0.0,>=1.25.8 (from pyppeteer>=0.0.14->requests_html)\n",
            "  Downloading urllib3-1.26.18-py2.py3-none-any.whl (143 kB)\n",
            "\u001b[2K     \u001b[90m━━━━━━━━━━━━━━━━━━━━━━━━━━━━━━━━━━━━━━━━\u001b[0m \u001b[32m143.8/143.8 kB\u001b[0m \u001b[31m3.8 MB/s\u001b[0m eta \u001b[36m0:00:00\u001b[0m\n",
            "\u001b[?25hCollecting websockets<11.0,>=10.0 (from pyppeteer>=0.0.14->requests_html)\n",
            "  Downloading websockets-10.4-cp310-cp310-manylinux_2_5_x86_64.manylinux1_x86_64.manylinux_2_17_x86_64.manylinux2014_x86_64.whl (106 kB)\n",
            "\u001b[2K     \u001b[90m━━━━━━━━━━━━━━━━━━━━━━━━━━━━━━━━━━━━━━━━\u001b[0m \u001b[32m106.8/106.8 kB\u001b[0m \u001b[31m13.2 MB/s\u001b[0m eta \u001b[36m0:00:00\u001b[0m\n",
            "\u001b[?25hRequirement already satisfied: beautifulsoup4 in /usr/local/lib/python3.10/dist-packages (from bs4->requests_html) (4.12.3)\n",
            "Requirement already satisfied: lxml>=2.1 in /usr/local/lib/python3.10/dist-packages (from pyquery->requests_html) (4.9.4)\n",
            "Collecting cssselect>=1.2.0 (from pyquery->requests_html)\n",
            "  Downloading cssselect-1.2.0-py2.py3-none-any.whl (18 kB)\n",
            "Requirement already satisfied: charset-normalizer<4,>=2 in /usr/local/lib/python3.10/dist-packages (from requests->requests_html) (3.3.2)\n",
            "Requirement already satisfied: idna<4,>=2.5 in /usr/local/lib/python3.10/dist-packages (from requests->requests_html) (3.7)\n",
            "Requirement already satisfied: zipp>=0.5 in /usr/local/lib/python3.10/dist-packages (from importlib-metadata>=1.4->pyppeteer>=0.0.14->requests_html) (3.18.1)\n",
            "Requirement already satisfied: typing-extensions in /usr/local/lib/python3.10/dist-packages (from pyee<12.0.0,>=11.0.0->pyppeteer>=0.0.14->requests_html) (4.11.0)\n",
            "Requirement already satisfied: soupsieve>1.2 in /usr/local/lib/python3.10/dist-packages (from beautifulsoup4->bs4->requests_html) (2.5)\n",
            "Installing collected packages: parse, fake-useragent, websockets, w3lib, urllib3, pyee, cssselect, pyquery, pyppeteer, bs4, requests_html\n",
            "  Attempting uninstall: urllib3\n",
            "    Found existing installation: urllib3 2.0.7\n",
            "    Uninstalling urllib3-2.0.7:\n",
            "      Successfully uninstalled urllib3-2.0.7\n",
            "Successfully installed bs4-0.0.2 cssselect-1.2.0 fake-useragent-1.5.1 parse-1.20.1 pyee-11.1.0 pyppeteer-2.0.0 pyquery-2.0.0 requests_html-0.10.0 urllib3-1.26.18 w3lib-2.1.2 websockets-10.4\n"
          ]
        }
      ],
      "source": [
        "pip install requests_html"
      ]
    },
    {
      "cell_type": "code",
      "execution_count": null,
      "metadata": {
        "colab": {
          "base_uri": "https://localhost:8080/"
        },
        "id": "PaqtQgKabdIh",
        "outputId": "692dbf2d-1334-4ac6-e974-ec1fd389957b"
      },
      "outputs": [
        {
          "name": "stdout",
          "output_type": "stream",
          "text": [
            "Requirement already satisfied: nest_asyncio in /usr/local/lib/python3.10/dist-packages (1.6.0)\n"
          ]
        }
      ],
      "source": [
        "pip install nest_asyncio"
      ]
    },
    {
      "cell_type": "markdown",
      "metadata": {
        "id": "VZofScRgEozj"
      },
      "source": [
        "# LOADING DATASET"
      ]
    },
    {
      "cell_type": "code",
      "execution_count": null,
      "metadata": {
        "colab": {
          "base_uri": "https://localhost:8080/",
          "height": 333,
          "referenced_widgets": [
            "026195d2e2f84a56b9676063dbe29311",
            "1bdce188015946f383f75e14d5b1e690",
            "746458992712460ebc624b8fe1c12590",
            "75151d9447c5453e97dab80f774539e8",
            "f6bb5c119d1b4afda47555ec55788114",
            "ffde049bf11547339d1fe07aa75993d9",
            "cd22d3ed64cb42a49a6ccbd1bd239f76",
            "b1033c6b6bb1464c88b06c0914dbfed8",
            "ebf6342a54c3412ab010bdb62698cdb3",
            "24d5da5d5f42499cb48f3612026a8ab5",
            "3337afafb1874537af8e7ed633589b98",
            "d3689117b8c84cbfbdc7ac99506c9c19",
            "b513f50bf2a1479ebb16440f78c33036",
            "01f015a690cb4bf1b90cc27540c3fc6e",
            "998cf5715bdd4eafbfb1e372f33fd49d",
            "5a4efe8a43634fb991c5356ff599b366",
            "c968eef5a8f8487790888ff6301a7101",
            "95c6f9e00caf45a5aee2e9425c628bd1",
            "6fdb293b73454ace9019bc9f77a523da",
            "6c6b04cde878486792e0d4e6b49c0839",
            "6012b7d5ce5c4d508400df7ae12a354b",
            "67951125b7a548dea6f570cfbf187169",
            "9e829f91856a42898d6cd3b1b5788212",
            "0be7030a8d9a4c408359528654710272",
            "dad3041d6601457194d6fb3a6785365c",
            "1a228006a9ca420399a4af31cf561ea6",
            "3aae6b2144514200b6ce46375f4914e9",
            "9d62ee7e9ce44e13985ba06bc60c59b1",
            "d41483a1f5204b7e8f3716529536ddc8",
            "cf28eb91ca454626a0f7d1dbb739659d",
            "f28ac2bd2c46449982542393f0cec833",
            "2693aa2a277d4580881a7a10fa97d3a8",
            "7f04a6d1ab614b8aae50f452ca0fa3ae",
            "46dce65509ab4f4482a09714a6eaa5a1",
            "f9f3c72c855048cc9e3be84ddbb8d5d4",
            "c16de205a9ac47a8b430e2ee1fbafe1c",
            "4749d27728044392bb31a05eb520f37d",
            "55fce69eb4444bd0bd37be414047ed8c",
            "9d4ae5aa1ad3435a9d18f37a901cf325",
            "210ad43c9a13401ca11b57d10849d232",
            "04ce521117f74e74a9bff41b764476d9",
            "0a97f177a94949c2a843b9e2b0dd926a",
            "83b7ee3d3e764829aa9043e803a2250b",
            "4929d49c7dcc41f9a5583d8383780962",
            "3fe3d2857b6848d7ab713b1fd02e2ca8",
            "3efa60484a164e1d97e381f6b4bfb837",
            "76010e9c5b19434ea8fc97995d2afd75",
            "405940820b224fb3ac9a2fa1beea53df",
            "a97459f45c184149abe6cc804cb4d458",
            "62f81b8ca466461987d2d84358fdd33f",
            "1229cf96d9e1434c99a07c875d6a108a",
            "07534d9fe25c43fabff426a6fb567357",
            "e075fd06577649259de04aa55c858d19",
            "5aa5b03f3837492a9d2c3ec6ad3d4de4",
            "3aa2e2a32f724570b2236cc8e1dfe3cd",
            "ca9c4683593c4f678c9ae429f2ebd56d",
            "4d54e68cc72248c3a69ee4b5fc039ca7",
            "a077a56467c044478d37175b167ec83c",
            "87696e6b532143e998db24e13e71aa19",
            "8d5ad60ee1da4ef4823ed2ebff6a2b35",
            "2a430896b522484a8f6d6104599d073b",
            "9993991968de490d869779f0b4aabb06",
            "c07f1b9e6cbc486681e826ea12a2b141",
            "7bd795114d9946d18e9defe1c685f5d2",
            "7d15d1fab6924764b4a10ef6285d9ce2",
            "15242796f4e246aa8b2d7f83f322da9a"
          ]
        },
        "id": "9yGjqtuWbgRI",
        "outputId": "849142bb-e798-4d77-ad2b-fa3da3eee62a"
      },
      "outputs": [
        {
          "name": "stderr",
          "output_type": "stream",
          "text": [
            "/usr/local/lib/python3.10/dist-packages/huggingface_hub/utils/_token.py:89: UserWarning: \n",
            "The secret `HF_TOKEN` does not exist in your Colab secrets.\n",
            "To authenticate with the Hugging Face Hub, create a token in your settings tab (https://huggingface.co/settings/tokens), set it as secret in your Google Colab and restart your session.\n",
            "You will be able to reuse this secret in all of your notebooks.\n",
            "Please note that authentication is recommended but still optional to access public models or datasets.\n",
            "  warnings.warn(\n"
          ]
        },
        {
          "data": {
            "application/vnd.jupyter.widget-view+json": {
              "model_id": "026195d2e2f84a56b9676063dbe29311",
              "version_major": 2,
              "version_minor": 0
            },
            "text/plain": [
              "Downloading data:   0%|          | 0.00/26.2M [00:00<?, ?B/s]"
            ]
          },
          "metadata": {},
          "output_type": "display_data"
        },
        {
          "data": {
            "application/vnd.jupyter.widget-view+json": {
              "model_id": "d3689117b8c84cbfbdc7ac99506c9c19",
              "version_major": 2,
              "version_minor": 0
            },
            "text/plain": [
              "Downloading data:   0%|          | 0.00/3.77M [00:00<?, ?B/s]"
            ]
          },
          "metadata": {},
          "output_type": "display_data"
        },
        {
          "data": {
            "application/vnd.jupyter.widget-view+json": {
              "model_id": "9e829f91856a42898d6cd3b1b5788212",
              "version_major": 2,
              "version_minor": 0
            },
            "text/plain": [
              "Downloading data:   0%|          | 0.00/2.82M [00:00<?, ?B/s]"
            ]
          },
          "metadata": {},
          "output_type": "display_data"
        },
        {
          "data": {
            "application/vnd.jupyter.widget-view+json": {
              "model_id": "46dce65509ab4f4482a09714a6eaa5a1",
              "version_major": 2,
              "version_minor": 0
            },
            "text/plain": [
              "Generating train split:   0%|          | 0/10539 [00:00<?, ? examples/s]"
            ]
          },
          "metadata": {},
          "output_type": "display_data"
        },
        {
          "data": {
            "application/vnd.jupyter.widget-view+json": {
              "model_id": "3fe3d2857b6848d7ab713b1fd02e2ca8",
              "version_major": 2,
              "version_minor": 0
            },
            "text/plain": [
              "Generating validation split:   0%|          | 0/1370 [00:00<?, ? examples/s]"
            ]
          },
          "metadata": {},
          "output_type": "display_data"
        },
        {
          "data": {
            "application/vnd.jupyter.widget-view+json": {
              "model_id": "ca9c4683593c4f678c9ae429f2ebd56d",
              "version_major": 2,
              "version_minor": 0
            },
            "text/plain": [
              "Generating test split:   0%|          | 0/1200 [00:00<?, ? examples/s]"
            ]
          },
          "metadata": {},
          "output_type": "display_data"
        }
      ],
      "source": [
        "from datasets import load_dataset\n",
        "import torch\n",
        "from torch.utils.data import Dataset, DataLoader\n",
        "import torch.nn as nn\n",
        "from torch.optim import Adam\n",
        "from tqdm import tqdm\n",
        "from sklearn.metrics import accuracy_score, precision_score, recall_score, f1_score\n",
        "\n",
        "# Load the English dataset from conll2012_ontonotesv5\n",
        "dataset = load_dataset(\"conll2012_ontonotesv5\", \"english_v12\")"
      ]
    },
    {
      "cell_type": "code",
      "execution_count": null,
      "metadata": {
        "colab": {
          "base_uri": "https://localhost:8080/"
        },
        "id": "f6SA9YbBbjtO",
        "outputId": "e5000df6-6b5b-46d5-ddfe-89ee8d97372e"
      },
      "outputs": [
        {
          "name": "stdout",
          "output_type": "stream",
          "text": [
            "Torch version: 2.2.1+cu121\n",
            "Is CUDA enabled? True\n"
          ]
        }
      ],
      "source": [
        "import torch\n",
        "\n",
        "print(\"Torch version:\",torch.__version__)\n",
        "\n",
        "print(\"Is CUDA enabled?\",torch.cuda.is_available())"
      ]
    },
    {
      "cell_type": "markdown",
      "metadata": {
        "id": "LigF7RzjEozk"
      },
      "source": [
        "# DATA PRE-PROCESSING"
      ]
    },
    {
      "cell_type": "markdown",
      "metadata": {
        "id": "qFaDTAO_Eozl"
      },
      "source": [
        "Creating a Tag Map & Tokenisation"
      ]
    },
    {
      "cell_type": "code",
      "execution_count": null,
      "metadata": {
        "id": "_jcRR6D4bmhX"
      },
      "outputs": [],
      "source": [
        "# Modify tag_map to include both integer and string representations\n",
        "tag_map = {\n",
        "    0: 'O', 'O': 0,\n",
        "    1: 'B-PERSON', 'B-PERSON': 1, 2: 'I-PERSON', 'I-PERSON': 2,\n",
        "    3: 'B-NORP', 'B-NORP': 3, 4: 'I-NORP', 'I-NORP': 4,\n",
        "    5: 'B-FAC', 'B-FAC': 5, 6: 'I-FAC', 'I-FAC': 6,\n",
        "    7: 'B-ORG', 'B-ORG': 7, 8: 'I-ORG', 'I-ORG': 8,\n",
        "    9: 'B-GPE', 'B-GPE': 9, 10: 'I-GPE', 'I-GPE': 10,\n",
        "    11: 'B-LOC', 'B-LOC': 11, 12: 'I-LOC', 'I-LOC': 12,\n",
        "    13: 'B-PRODUCT', 'B-PRODUCT': 13, 14: 'I-PRODUCT', 'I-PRODUCT': 14,\n",
        "    15: 'B-DATE', 'B-DATE': 15, 16: 'I-DATE', 'I-DATE': 16,\n",
        "    17: 'B-TIME', 'B-TIME': 17, 18: 'I-TIME', 'I-TIME': 18,\n",
        "    19: 'B-PERCENT', 'B-PERCENT': 19, 20: 'I-PERCENT', 'I-PERCENT': 20,\n",
        "    21: 'B-MONEY', 'B-MONEY': 21, 22: 'I-MONEY', 'I-MONEY': 22,\n",
        "    23: 'B-QUANTITY', 'B-QUANTITY': 23, 24: 'I-QUANTITY', 'I-QUANTITY': 24,\n",
        "    25: 'B-ORDINAL', 'B-ORDINAL': 25, 26: 'I-ORDINAL', 'I-ORDINAL': 26,\n",
        "    27: 'B-CARDINAL', 'B-CARDINAL': 27, 28: 'I-CARDINAL', 'I-CARDINAL': 28,\n",
        "    29: 'B-EVENT', 'B-EVENT': 29, 30: 'I-EVENT', 'I-EVENT': 30,\n",
        "    31: 'B-WORK_OF_ART', 'B-WORK_OF_ART': 31, 32: 'I-WORK_OF_ART', 'I-WORK_OF_ART': 32,\n",
        "    33: 'B-LAW', 'B-LAW': 33, 34: 'I-LAW', 'I-LAW': 34,\n",
        "    35: 'B-LANGUAGE', 'B-LANGUAGE': 35, 36: 'I-LANGUAGE', 'I-LANGUAGE': 36\n",
        "}\n",
        "\n",
        "def preprocess(data):\n",
        "    sentences = []\n",
        "    labels = []\n",
        "    for example in data:\n",
        "        for sentence_info in example['sentences']:\n",
        "            tokens = sentence_info[\"words\"]\n",
        "            ner_tags = [tag for tag in sentence_info.get(\"named_entities\", [])]  # Keep tags as strings\n",
        "            encoded_labels = [tag_map[tag] for tag in ner_tags]  # Convert string tags to integers\n",
        "            encoded_labels.extend([tag_map['O']] * (len(tokens) - len(encoded_labels)))\n",
        "            sentences.append(tokens)\n",
        "            labels.append(encoded_labels)\n",
        "    return sentences, labels\n"
      ]
    },
    {
      "cell_type": "markdown",
      "metadata": {
        "id": "BzupXNvxEozl"
      },
      "source": [
        "Initialising Sentences & Labels to newly processed data"
      ]
    },
    {
      "cell_type": "code",
      "execution_count": null,
      "metadata": {
        "id": "uTFvHNcsbpTg"
      },
      "outputs": [],
      "source": [
        "train_sentences, train_labels = preprocess(dataset[\"train\"])\n",
        "valid_sentences, valid_labels = preprocess(dataset[\"validation\"])\n",
        "test_sentences, test_labels = preprocess(dataset[\"test\"])"
      ]
    },
    {
      "cell_type": "code",
      "execution_count": null,
      "metadata": {
        "id": "Dl157JflbrP2"
      },
      "outputs": [],
      "source": [
        "# Assuming train_sentences is a list of sentences\n",
        "vocab = {word: i+1 for i, word in enumerate(set(word for sentence in train_sentences for word in sentence))}\n",
        "vocab['<pad>'] = 0"
      ]
    },
    {
      "cell_type": "markdown",
      "metadata": {
        "id": "MiVhjRpCEozm"
      },
      "source": [
        "# MODEL TRAINING"
      ]
    },
    {
      "cell_type": "markdown",
      "metadata": {
        "id": "vKW-xrk2Eozm"
      },
      "source": [
        "Creating a Data Loader"
      ]
    },
    {
      "cell_type": "code",
      "execution_count": null,
      "metadata": {
        "id": "ncq5Zw-abtNt"
      },
      "outputs": [],
      "source": [
        "# Define PAD_TOKEN_LABEL_ID\n",
        "PAD_TOKEN_LABEL_ID = tag_map['O']\n",
        "\n",
        "class NERDataset(Dataset):\n",
        "    def __init__(self, sentences, labels):\n",
        "        self.sentences = sentences\n",
        "        self.labels = labels\n",
        "\n",
        "    def __len__(self):\n",
        "        return len(self.sentences)\n",
        "\n",
        "    def __getitem__(self, idx):\n",
        "        return {'tokens': self.sentences[idx],\n",
        "                'labels': self.labels[idx]}\n",
        "\n",
        "    def collate_fn(self, batch):\n",
        "        max_len = max(len(example['tokens']) for example in batch)\n",
        "        padded_sentences = [torch.tensor([vocab.get(token, vocab['<pad>']) for token in example['tokens']] +\n",
        "                                         [vocab['<pad>']] * (max_len - len(example['tokens'])), dtype=torch.long)\n",
        "                            for example in batch]\n",
        "        padded_labels = [torch.tensor([tag_map[tag] for tag in example['labels']] +\n",
        "                                      [PAD_TOKEN_LABEL_ID] * (max_len - len(example['labels'])), dtype=torch.long)\n",
        "                         for example in batch]\n",
        "\n",
        "        padded_sentences = nn.utils.rnn.pad_sequence(padded_sentences, batch_first=True)\n",
        "        padded_labels = nn.utils.rnn.pad_sequence(padded_labels, batch_first=True)\n",
        "\n",
        "        return {'tokens': padded_sentences,\n",
        "                'labels': padded_labels}\n",
        "\n",
        "# Create DataLoader for training, validation, and testing data\n",
        "train_dataset = NERDataset(train_sentences, train_labels)\n",
        "valid_dataset = NERDataset(valid_sentences, valid_labels)\n",
        "test_dataset = NERDataset(test_sentences, test_labels)\n",
        "\n",
        "train_loader = DataLoader(train_dataset, batch_size=32, shuffle=True, collate_fn=train_dataset.collate_fn)\n",
        "valid_loader = DataLoader(valid_dataset, batch_size=32, collate_fn=valid_dataset.collate_fn)\n",
        "test_loader = DataLoader(test_dataset, batch_size=32, collate_fn=test_dataset.collate_fn)\n"
      ]
    },
    {
      "cell_type": "markdown",
      "metadata": {
        "id": "RvoCW-39Eozm"
      },
      "source": [
        "Model Training using Bi-LSTM"
      ]
    },
    {
      "cell_type": "code",
      "execution_count": null,
      "metadata": {
        "id": "sjfuusChbvV_"
      },
      "outputs": [],
      "source": [
        "class BiLSTM(nn.Module):\n",
        "    def __init__(self, vocab_size, embedding_dim, hidden_dim, output_dim):\n",
        "        super(BiLSTM, self).__init__()\n",
        "        self.embedding = nn.Embedding(vocab_size, embedding_dim)\n",
        "        self.lstm = nn.LSTM(embedding_dim, hidden_dim, bidirectional=True)\n",
        "        self.fc = nn.Linear(hidden_dim * 2, output_dim)\n",
        "\n",
        "    def forward(self, x):\n",
        "        embedded = self.embedding(x)\n",
        "        lstm_output, _ = self.lstm(embedded)\n",
        "        output = self.fc(lstm_output)\n",
        "        return output\n",
        "\n",
        "# Define hyperparameters\n",
        "vocab_size = len(vocab) + 1\n",
        "embedding_dim = 100\n",
        "hidden_dim = 128\n",
        "output_dim = len(tag_map)\n",
        "\n",
        "# Initialize the model\n",
        "model = BiLSTM(vocab_size, embedding_dim, hidden_dim, output_dim)\n"
      ]
    },
    {
      "cell_type": "markdown",
      "metadata": {
        "id": "TBrdsWU5Eozm"
      },
      "source": [
        "Using ADAM optimizer & quantifying the difference between predictions & true values using CrossEntropyLoss"
      ]
    },
    {
      "cell_type": "code",
      "execution_count": null,
      "metadata": {
        "colab": {
          "base_uri": "https://localhost:8080/"
        },
        "id": "5qFaHQItb3sh",
        "outputId": "dd11af0d-617a-4055-d8a8-8f77b52e5b3b"
      },
      "outputs": [
        {
          "name": "stderr",
          "output_type": "stream",
          "text": [
            "Epoch 1/10: 100%|██████████| 3620/3620 [00:23<00:00, 152.12batch/s]\n"
          ]
        },
        {
          "name": "stdout",
          "output_type": "stream",
          "text": [
            "Epoch 1/10, Loss: 0.0635\n"
          ]
        },
        {
          "name": "stderr",
          "output_type": "stream",
          "text": [
            "Epoch 2/10: 100%|██████████| 3620/3620 [00:22<00:00, 160.30batch/s]\n"
          ]
        },
        {
          "name": "stdout",
          "output_type": "stream",
          "text": [
            "Epoch 2/10, Loss: 0.0632\n"
          ]
        },
        {
          "name": "stderr",
          "output_type": "stream",
          "text": [
            "Epoch 3/10: 100%|██████████| 3620/3620 [00:22<00:00, 162.53batch/s]\n"
          ]
        },
        {
          "name": "stdout",
          "output_type": "stream",
          "text": [
            "Epoch 3/10, Loss: 0.0631\n"
          ]
        },
        {
          "name": "stderr",
          "output_type": "stream",
          "text": [
            "Epoch 4/10: 100%|██████████| 3620/3620 [00:22<00:00, 160.59batch/s]\n"
          ]
        },
        {
          "name": "stdout",
          "output_type": "stream",
          "text": [
            "Epoch 4/10, Loss: 0.0631\n"
          ]
        },
        {
          "name": "stderr",
          "output_type": "stream",
          "text": [
            "Epoch 5/10: 100%|██████████| 3620/3620 [00:23<00:00, 152.81batch/s]\n"
          ]
        },
        {
          "name": "stdout",
          "output_type": "stream",
          "text": [
            "Epoch 5/10, Loss: 0.0629\n"
          ]
        },
        {
          "name": "stderr",
          "output_type": "stream",
          "text": [
            "Epoch 6/10: 100%|██████████| 3620/3620 [00:24<00:00, 145.83batch/s]\n"
          ]
        },
        {
          "name": "stdout",
          "output_type": "stream",
          "text": [
            "Epoch 6/10, Loss: 0.0629\n"
          ]
        },
        {
          "name": "stderr",
          "output_type": "stream",
          "text": [
            "Epoch 7/10: 100%|██████████| 3620/3620 [00:23<00:00, 154.30batch/s]\n"
          ]
        },
        {
          "name": "stdout",
          "output_type": "stream",
          "text": [
            "Epoch 7/10, Loss: 0.0628\n"
          ]
        },
        {
          "name": "stderr",
          "output_type": "stream",
          "text": [
            "Epoch 8/10: 100%|██████████| 3620/3620 [00:23<00:00, 154.37batch/s]\n"
          ]
        },
        {
          "name": "stdout",
          "output_type": "stream",
          "text": [
            "Epoch 8/10, Loss: 0.0629\n"
          ]
        },
        {
          "name": "stderr",
          "output_type": "stream",
          "text": [
            "Epoch 9/10: 100%|██████████| 3620/3620 [00:23<00:00, 151.20batch/s]\n"
          ]
        },
        {
          "name": "stdout",
          "output_type": "stream",
          "text": [
            "Epoch 9/10, Loss: 0.0627\n"
          ]
        },
        {
          "name": "stderr",
          "output_type": "stream",
          "text": [
            "Epoch 10/10: 100%|██████████| 3620/3620 [00:23<00:00, 151.97batch/s]"
          ]
        },
        {
          "name": "stdout",
          "output_type": "stream",
          "text": [
            "Epoch 10/10, Loss: 0.0624\n"
          ]
        },
        {
          "name": "stderr",
          "output_type": "stream",
          "text": [
            "\n"
          ]
        }
      ],
      "source": [
        "criterion = nn.CrossEntropyLoss()\n",
        "optimizer = Adam(model.parameters(), lr=0.001)\n",
        "\n",
        "# Training loop without GPU acceleration\n",
        "device = \"cuda\" if torch.cuda.is_available() else \"cpu\"\n",
        "model.to(device)\n",
        "criterion = criterion.to(device)\n",
        "\n",
        "for epoch in range(10):\n",
        "    model.train()\n",
        "    epoch_loss = 0\n",
        "\n",
        "    for batch in tqdm(train_loader, desc=f\"Epoch {epoch+1}/10\", unit=\"batch\"):\n",
        "        inputs, labels = batch['tokens'].to(device), batch['labels'].to(device)\n",
        "\n",
        "        optimizer.zero_grad()\n",
        "        outputs = model(inputs)\n",
        "\n",
        "        labels = labels.view(-1)\n",
        "        loss = criterion(outputs.view(-1, outputs.shape[-1]), labels)\n",
        "        loss.backward()\n",
        "        optimizer.step()\n",
        "\n",
        "        epoch_loss += loss.item()\n",
        "\n",
        "    print(f'Epoch {epoch+1}/10, Loss: {epoch_loss/len(train_loader):.4f}')\n"
      ]
    },
    {
      "cell_type": "markdown",
      "metadata": {
        "id": "_IpKVKzGEozn"
      },
      "source": [
        "Creating a function to Tag Sentences"
      ]
    },
    {
      "cell_type": "code",
      "execution_count": null,
      "metadata": {
        "id": "srEgrlE4b8nS"
      },
      "outputs": [],
      "source": [
        "import torch\n",
        "def tag_sentences(sentences, model, vocab, tag_map, device):\n",
        "    model.eval()\n",
        "    tagged_sentences = []\n",
        "    with torch.no_grad():\n",
        "        if isinstance(sentences[0], str):  # Check if it's a single sentence\n",
        "            sentences = [sentences]  # Convert single sentence to a list\n",
        "\n",
        "        for sentence in sentences:\n",
        "            tokenized_sentence = [vocab.get(token, vocab['<pad>']) for token in sentence]\n",
        "            tokenized_sentence = torch.tensor(tokenized_sentence, dtype=torch.long).unsqueeze(0).to(device)\n",
        "            outputs = model(tokenized_sentence)\n",
        "            predicted_tags = torch.argmax(outputs, dim=-1).squeeze().tolist()\n",
        "            if isinstance(predicted_tags, int):\n",
        "              predicted_tags = [predicted_tags]\n",
        "            tagged_sentence = [tag_map[tag] for tag in predicted_tags]\n",
        "            tagged_sentences.append(tagged_sentence)\n",
        "    return tagged_sentences"
      ]
    },
    {
      "cell_type": "code",
      "execution_count": null,
      "metadata": {
        "colab": {
          "base_uri": "https://localhost:8080/"
        },
        "id": "aSRZ294keRGZ",
        "outputId": "276e774f-2171-40f7-a871-53d59b6e4765"
      },
      "outputs": [
        {
          "name": "stdout",
          "output_type": "stream",
          "text": [
            "Text: New York City, often simply referred to as NYC, is a bustling metropolis. Its iconic landmarks include the Statue of Liberty, Central Park, and the Empire State Building. Tourists flock to Times Square to experience its vibrant energy and dazzling lights.\n",
            "Predicted Tags: ['B-GPE', 'I-GPE', 'O', 'O', 'O', 'O', 'O', 'O', 'O', 'O', 'O', 'O', 'O', 'O', 'O', 'O', 'O', 'O', 'I-WORK_OF_ART', 'O', 'O', 'I-ORG', 'O', 'O', 'O', 'O', 'I-ORG', 'O', 'O', 'O', 'O', 'I-ORG', 'I-FAC', 'O', 'O', 'O', 'O', 'O', 'O', 'O', 'O']\n",
            "\n"
          ]
        }
      ],
      "source": [
        "# Test the model against some sentences\n",
        "text='''New York City, often simply referred to as NYC, is a bustling metropolis.\n",
        "Its iconic landmarks include the Statue of Liberty, Central Park, and the Empire State Building.\n",
        "Tourists flock to Times Square to experience its vibrant energy and dazzling lights.\n",
        "'''\n",
        "example_sentences = [text.split()]\n",
        "tagged_example_sentences = tag_sentences(example_sentences, model, vocab, tag_map, device)\n",
        "for sentence, tags in zip(example_sentences, tagged_example_sentences):\n",
        "    print(\"Text:\", \" \".join(sentence))\n",
        "    print(\"Predicted Tags:\", tags)\n",
        "    print()"
      ]
    },
    {
      "cell_type": "code",
      "execution_count": null,
      "metadata": {
        "colab": {
          "base_uri": "https://localhost:8080/"
        },
        "id": "PVM_WJh7eTE2",
        "outputId": "781c50b4-ff6f-421c-95e2-fc5625c3c9cf"
      },
      "outputs": [
        {
          "name": "stdout",
          "output_type": "stream",
          "text": [
            "Collecting pyPDF2\n",
            "  Downloading pypdf2-3.0.1-py3-none-any.whl (232 kB)\n",
            "\u001b[2K     \u001b[90m━━━━━━━━━━━━━━━━━━━━━━━━━━━━━━━━━━━━━━━━\u001b[0m \u001b[32m232.6/232.6 kB\u001b[0m \u001b[31m2.1 MB/s\u001b[0m eta \u001b[36m0:00:00\u001b[0m\n",
            "\u001b[?25hInstalling collected packages: pyPDF2\n",
            "Successfully installed pyPDF2-3.0.1\n"
          ]
        }
      ],
      "source": [
        "pip install pyPDF2"
      ]
    },
    {
      "cell_type": "markdown",
      "metadata": {
        "id": "shZFsOfgEozn"
      },
      "source": [
        "Using a Pre-Trained Model for Text Summarisation"
      ]
    },
    {
      "cell_type": "code",
      "execution_count": null,
      "metadata": {
        "id": "dFpwYwEEeZRF"
      },
      "outputs": [],
      "source": [
        "import PyPDF2\n",
        "from transformers import BartTokenizer, BartForConditionalGeneration\n",
        "# Function to extract text from a PDF file\n",
        "def extract_text_from_pdf(pdf_file_path):\n",
        "    with open(pdf_file_path, 'rb') as file:\n",
        "        reader = PyPDF2.PdfReader(file)\n",
        "        text = ''\n",
        "        for page in reader.pages:\n",
        "            text += page.extract_text()\n",
        "    return text\n",
        "\n",
        "# Function to perform text summarization\n",
        "def summarize_text(text):\n",
        "    tokenizer = BartTokenizer.from_pretrained('facebook/bart-large-cnn')\n",
        "    model = BartForConditionalGeneration.from_pretrained('facebook/bart-large-cnn')\n",
        "    model.eval()\n",
        "\n",
        "    summaries = []\n",
        "    while len(text) > 0:\n",
        "      chunk = text[:1024]\n",
        "      text = text[1024:]\n",
        "\n",
        "      inputs = tokenizer(chunk, max_length=1024, return_tensors='pt', truncation=True)\n",
        "      summary_ids = model.generate(inputs['input_ids'], num_beams=8, early_stopping=True)\n",
        "      summary = tokenizer.decode(summary_ids[0], skip_special_tokens=True)\n",
        "      summaries.append(summary)\n",
        "\n",
        "    full_summary = ' '.join(summaries)\n",
        "    return full_summary"
      ]
    },
    {
      "cell_type": "markdown",
      "metadata": {
        "id": "hq0kTJ34Eozn"
      },
      "source": [
        "Defining a function to perform Named Entity Recognition (NER)"
      ]
    },
    {
      "cell_type": "code",
      "execution_count": null,
      "metadata": {
        "id": "pI1ytR1fec4l"
      },
      "outputs": [],
      "source": [
        "def perform_ner(text, model, vocab, tag_map, device):\n",
        "    # Tokenize the text into sentences\n",
        "    sentences = text.split(\". \")  # Split the text into sentences\n",
        "\n",
        "    # Initialize a list to store NER results\n",
        "    ner_results = []\n",
        "\n",
        "    # Iterate through each sentence\n",
        "    for sentence in sentences:\n",
        "        # Tokenize the sentence into words\n",
        "        words = sentence.split()\n",
        "\n",
        "        # Perform NER on the sentence\n",
        "        tagged_sentence = tag_sentences([words], model, vocab, tag_map, device)[0]\n",
        "\n",
        "        # Store the words and their corresponding predicted tags\n",
        "        ner_result = [(word, tag_map[tag]) for word, tag in zip(words, tagged_sentence) if tag != 0]\n",
        "        ner_results.append(ner_result)\n",
        "\n",
        "    return ner_results"
      ]
    },
    {
      "cell_type": "markdown",
      "metadata": {
        "id": "qMCDhzPjEozo"
      },
      "source": [
        "Defining a function scrape the Web for YouTube links pertaining to the subject"
      ]
    },
    {
      "cell_type": "code",
      "execution_count": null,
      "metadata": {
        "id": "TGue9gkNeegq"
      },
      "outputs": [],
      "source": [
        "import asyncio\n",
        "from requests_html import AsyncHTMLSession\n",
        "import pandas as pd\n",
        "import nest_asyncio\n",
        "\n",
        "# Allow nested event loops in Jupyter notebooks\n",
        "nest_asyncio.apply()\n",
        "\n",
        "# Create an asynchronous HTML session\n",
        "session = AsyncHTMLSession()\n",
        "\n",
        "async def scrape_videos(word):\n",
        "    # Define the URL with the search word\n",
        "    url = f'https://www.youtube.com/results?search_query={word}'\n",
        "\n",
        "    # Send the request to the server\n",
        "    response = await session.get(url)\n",
        "\n",
        "    # Render the JavaScript page\n",
        "    await response.html.arender(sleep=3, timeout=100, keep_page=True, scrolldown=5)\n",
        "\n",
        "    # Find the data elements\n",
        "    containers = response.html.find('ytd-video-renderer.style-scope.ytd-item-section-renderer')\n",
        "\n",
        "    # Create an empty list to store data\n",
        "    data = []\n",
        "\n",
        "    # Counter to keep track of URLs extracted\n",
        "    count = 0\n",
        "\n",
        "    # Iterate through each container to extract data\n",
        "    for elem in containers:\n",
        "        try:\n",
        "            video_title = elem.find('yt-formatted-string.style-scope.ytd-video-renderer', first=True).text\n",
        "        except AttributeError:\n",
        "            video_title = 'N/A'\n",
        "\n",
        "        try:\n",
        "            video_url = 'https://www.youtube.com' + elem.find('a#video-title', first=True).attrs['href']\n",
        "        except AttributeError:\n",
        "            video_url = 'N/A'\n",
        "\n",
        "        # Append the data to the list\n",
        "        data.append({'title': video_title, 'url': video_url})\n",
        "\n",
        "        # Increment the counter\n",
        "        count += 1\n",
        "\n",
        "        # Break the loop if one URL has been extracted\n",
        "        if count == 1:\n",
        "            break\n",
        "\n",
        "    return data\n",
        "\n",
        "async def search_most_viewed_videos(query):\n",
        "    return await scrape_videos(query)\n",
        "\n",
        "def generate_youtube_videos_for_ner(entities):\n",
        "  youtube_data = []\n",
        "  i = 0\n",
        "\n",
        "  while i + 1 < len(entities):\n",
        "        query = entities[i][0] + ' ' + entities[i + 1][0]  # Combine current and next tuple\n",
        "        data = asyncio.run(search_most_viewed_videos(query))\n",
        "\n",
        "    # Check if the data already exists in youtube_data to avoid redundancy\n",
        "        for video in data:\n",
        "            if video not in youtube_data:\n",
        "                youtube_data.append(video)\n",
        "        i += 1\n",
        "  return youtube_data\n"
      ]
    },
    {
      "cell_type": "code",
      "execution_count": null,
      "metadata": {
        "id": "ScRrTfkMegcs"
      },
      "outputs": [],
      "source": [
        "# Main function to orchestrate the process\n",
        "def process_pdf(pdf_file_path):\n",
        "    # Step 1: Extract text from the PDF file\n",
        "    pdf_text = extract_text_from_pdf(pdf_file_path)\n",
        "\n",
        "    # Step 2: Perform text summarization\n",
        "    summarized_text = summarize_text(pdf_text)\n",
        "    print(summarized_text)\n",
        "\n",
        "    # Step 3: Perform NER on the summarized text\n",
        "    ner_results = perform_ner(summarized_text,model,vocab,tag_map,device)\n",
        "    print(ner_results)\n",
        "    entities=[item for sublist in ner_results for item in sublist]\n",
        "    final_entities = [(word, tag_map[tag]) for sublist in ner_results for word, tag in sublist if tag != 0]\n",
        "    print(final_entities)\n",
        "    youtube_data = generate_youtube_videos_for_ner(final_entities)\n",
        "    return youtube_data"
      ]
    },
    {
      "cell_type": "markdown",
      "metadata": {
        "id": "V_VPII55Eozo"
      },
      "source": [
        "Loading the input pdf"
      ]
    },
    {
      "cell_type": "code",
      "execution_count": null,
      "metadata": {
        "colab": {
          "base_uri": "https://localhost:8080/"
        },
        "id": "cAZQxhloejoA",
        "outputId": "f4995e2c-5a73-440d-c510-d48c17cc5c7e"
      },
      "outputs": [
        {
          "name": "stdout",
          "output_type": "stream",
          "text": [
            "The United States offers a rich tapestry of experiences for tourists to explore. From the rugged beauty of the Grand Canyon to the sun-kissed beaches of California, the U.S. offers a myriad of attractions. In this exploration of tourism in America, we will delve into its diverse offerings, from natural wonders to cultural landm arks. America is home to an array of national parks, each offering its own unique charm. Yosemite National Park in California entices visitors with towering granite cliffs, cascading waterfalls, and ancient sequoia trees. Yellowstone National Park, spanning Wyoming, Montana, and Idaho, captivates with its geothermal wonders. In the bustling metropolis of New York City, the Statue of Liberty stands as a symbol of freedom and opportunity. In the nation's capital, Washington, D.C., visitors can marvel at iconic monuments such as the Lincoln Memorial. In New Orleans, visitors can immerse themselves in the soulful sounds of jazz on Frenchmen Street. For thrill -seekers and entertainment enthusiasts, America offers a plethora of adrenaline -pumping activities and world -class attractions. From the glitz and glamour of Las Vegas to the adrenaline -fueled roller coasters of Orlando's theme parks, there's no shortage of excitement to be found. or  every type of traveler. Whether you're seeking natural wonders, cultural landmarks, adrenaline -pumping adventures, or world -class entertainment, the United State delivers. So pack your bags, hit the road, and prepare to be enchanted by all that America has to offer.\n",
            "[[('The', 0), ('United', 10), ('States', 10), ('offers', 0), ('a', 0), ('rich', 0), ('tapestry', 0), ('of', 0), ('experiences', 0), ('for', 0), ('tourists', 0), ('to', 0), ('explore', 0)], [('From', 0), ('the', 0), ('rugged', 0), ('beauty', 0), ('of', 0), ('the', 0), ('Grand', 8), ('Canyon', 12), ('to', 0), ('the', 0), ('sun-kissed', 0), ('beaches', 0), ('of', 0), ('California,', 0), ('the', 0), ('U.S', 0)], [('offers', 0), ('a', 0), ('myriad', 0), ('of', 0), ('attractions', 0)], [('In', 0), ('this', 0), ('exploration', 0), ('of', 0), ('tourism', 0), ('in', 0), ('America,', 0), ('we', 0), ('will', 0), ('delve', 0), ('into', 0), ('its', 0), ('diverse', 0), ('offerings,', 0), ('from', 0), ('natural', 0), ('wonders', 0), ('to', 0), ('cultural', 0), ('landm', 0), ('arks', 0)], [('America', 9), ('is', 0), ('home', 0), ('to', 0), ('an', 0), ('array', 0), ('of', 0), ('national', 0), ('parks,', 0), ('each', 0), ('offering', 0), ('its', 0), ('own', 0), ('unique', 0), ('charm', 0)], [('Yosemite', 0), ('National', 8), ('Park', 6), ('in', 0), ('California', 9), ('entices', 0), ('visitors', 0), ('with', 0), ('towering', 0), ('granite', 0), ('cliffs,', 0), ('cascading', 0), ('waterfalls,', 0), ('and', 0), ('ancient', 0), ('sequoia', 0), ('trees', 0)], [('Yellowstone', 11), ('National', 8), ('Park,', 0), ('spanning', 0), ('Wyoming,', 0), ('Montana,', 0), ('and', 0), ('Idaho,', 0), ('captivates', 0), ('with', 0), ('its', 0), ('geothermal', 0), ('wonders', 0)], [('In', 0), ('the', 0), ('bustling', 0), ('metropolis', 0), ('of', 0), ('New', 9), ('York', 10), ('City,', 0), ('the', 0), ('Statue', 32), ('of', 0), ('Liberty', 32), ('stands', 0), ('as', 0), ('a', 0), ('symbol', 0), ('of', 0), ('freedom', 0), ('and', 0), ('opportunity', 0)], [('In', 0), ('the', 0), (\"nation's\", 0), ('capital,', 0), ('Washington,', 0), ('D.C.,', 0), ('visitors', 0), ('can', 0), ('marvel', 0), ('at', 0), ('iconic', 0), ('monuments', 0), ('such', 0), ('as', 0), ('the', 0), ('Lincoln', 7), ('Memorial', 6)], [('In', 0), ('New', 9), ('Orleans,', 0), ('visitors', 0), ('can', 0), ('immerse', 0), ('themselves', 0), ('in', 0), ('the', 0), ('soulful', 0), ('sounds', 0), ('of', 0), ('jazz', 0), ('on', 0), ('Frenchmen', 0), ('Street', 8)], [('For', 0), ('thrill', 0), ('-seekers', 0), ('and', 0), ('entertainment', 0), ('enthusiasts,', 0), ('America', 9), ('offers', 0), ('a', 0), ('plethora', 0), ('of', 0), ('adrenaline', 0), ('-pumping', 0), ('activities', 0), ('and', 0), ('world', 0), ('-class', 0), ('attractions', 0)], [('From', 0), ('the', 0), ('glitz', 0), ('and', 0), ('glamour', 0), ('of', 0), ('Las', 9), ('Vegas', 10), ('to', 0), ('the', 0), ('adrenaline', 0), ('-fueled', 0), ('roller', 0), ('coasters', 0), ('of', 0), (\"Orlando's\", 0), ('theme', 0), ('parks,', 0), (\"there's\", 0), ('no', 0), ('shortage', 0), ('of', 0), ('excitement', 0), ('to', 0), ('be', 0), ('found', 0)], [('or', 0), ('every', 0), ('type', 0), ('of', 0), ('traveler', 0)], [('Whether', 0), (\"you're\", 0), ('seeking', 0), ('natural', 0), ('wonders,', 0), ('cultural', 0), ('landmarks,', 0), ('adrenaline', 0), ('-pumping', 0), ('adventures,', 0), ('or', 0), ('world', 0), ('-class', 0), ('entertainment,', 0), ('the', 0), ('United', 10), ('State', 8), ('delivers', 0)], [('So', 0), ('pack', 0), ('your', 0), ('bags,', 0), ('hit', 0), ('the', 0), ('road,', 0), ('and', 0), ('prepare', 0), ('to', 0), ('be', 0), ('enchanted', 0), ('by', 0), ('all', 0), ('that', 0), ('America', 9), ('has', 0), ('to', 0), ('offer.', 0)]]\n",
            "[('United', 'I-GPE'), ('States', 'I-GPE'), ('Grand', 'I-ORG'), ('Canyon', 'I-LOC'), ('America', 'B-GPE'), ('National', 'I-ORG'), ('Park', 'I-FAC'), ('California', 'B-GPE'), ('Yellowstone', 'B-LOC'), ('National', 'I-ORG'), ('New', 'B-GPE'), ('York', 'I-GPE'), ('Statue', 'I-WORK_OF_ART'), ('Liberty', 'I-WORK_OF_ART'), ('Lincoln', 'B-ORG'), ('Memorial', 'I-FAC'), ('New', 'B-GPE'), ('Street', 'I-ORG'), ('America', 'B-GPE'), ('Las', 'B-GPE'), ('Vegas', 'I-GPE'), ('United', 'I-GPE'), ('State', 'I-ORG'), ('America', 'B-GPE')]\n"
          ]
        }
      ],
      "source": [
        "pdf_file_path =\"Tourism in America.pdf\"\n",
        "youtube_data = process_pdf(pdf_file_path)"
      ]
    },
    {
      "cell_type": "code",
      "execution_count": null,
      "metadata": {
        "colab": {
          "base_uri": "https://localhost:8080/"
        },
        "id": "i8MCJ1P2erg_",
        "outputId": "f7414efc-a693-4398-bde4-f24f50317d37"
      },
      "outputs": [
        {
          "name": "stdout",
          "output_type": "stream",
          "text": [
            "[{'title': 'US News LIVE: House Votes On Aid For Ukraine, Israel, Taiwan | Mike Johnson | Congress | IN18L', 'url': 'https://www.youtube.com/watch?v=Xn21MthEU4Q&pp=ygUNVW5pdGVkIFN0YXRlcw%3D%3D'}, {'title': 'Race Highlights | 2023 United States Grand Prix', 'url': 'https://www.youtube.com/watch?v=OTbaG_uTn-M&pp=ygUMU3RhdGVzIEdyYW5k'}, {'title': 'The Grand Canyon Explained | How the Earth Was Made (S2, E1) | Full Documentary | History', 'url': 'https://www.youtube.com/watch?v=LaxaE7tcwu4&pp=ygUMR3JhbmQgQ2FueW9u'}, {'title': \"Grand Canyon - The Jaw-Dropping Beauty of America's National Park | Free Documentary Nature\", 'url': 'https://www.youtube.com/watch?v=hNcG76DqOiI&pp=ygUOQ2FueW9uIEFtZXJpY2E%3D'}, {'title': \"Wild Yosemite (Full Episode) | America's National Parks\", 'url': 'https://www.youtube.com/watch?v=-Hw4iTB_Zs4&pp=ygUQQW1lcmljYSBOYXRpb25hbA%3D%3D'}, {'title': \"Wild Yosemite (Full Episode) | America's National Parks\", 'url': 'https://www.youtube.com/watch?v=-Hw4iTB_Zs4&pp=ygUNTmF0aW9uYWwgUGFyaw%3D%3D'}, {'title': '13 California State Parks You Must Visit', 'url': 'https://www.youtube.com/watch?v=qrGshkW8cZI&pp=ygUPUGFyayBDYWxpZm9ybmlh'}, {'title': 'Yellowstone National Park Vacation Travel Guide | Expedia', 'url': 'https://www.youtube.com/watch?v=bme0rs75Z3E&pp=ygUWQ2FsaWZvcm5pYSBZZWxsb3dzdG9uZQ%3D%3D'}, {'title': 'Yellowstone National Park Vacation Travel Guide | Expedia', 'url': 'https://www.youtube.com/watch?v=bme0rs75Z3E&pp=ygUUWWVsbG93c3RvbmUgTmF0aW9uYWw%3D'}, {'title': 'CTV National News | Sunday, April 21, 2024: Toronto man found not guilty in death of officer', 'url': 'https://www.youtube.com/watch?v=VdEmUvumwAc&pp=ygUMTmF0aW9uYWwgTmV3'}, {'title': 'Philadelphia 76ers vs New York Knicks Full Game 2 Highlights - April 22, 2024 | 2024 NBA Playoffs', 'url': 'https://www.youtube.com/watch?v=iaY-0alsv70&pp=ygUITmV3IFlvcms%3D'}, {'title': 'Statue of Liberty Facts for Kids | Learn all about this famous national monument', 'url': 'https://www.youtube.com/watch?v=UOraxP2BPok&pp=ygULWW9yayBTdGF0dWU%3D'}, {'title': \"What's inside the Statue of Liberty?\", 'url': 'https://www.youtube.com/watch?v=GkI_2yiIb48&pp=ygUOU3RhdHVlIExpYmVydHk%3D'}, {'title': 'Lincoln and Liberty', 'url': 'https://www.youtube.com/watch?v=MdX1MDmQbEs&pp=ygUPTGliZXJ0eSBMaW5jb2xu'}, {'title': 'The Lincoln Memorial at 100', 'url': 'https://www.youtube.com/watch?v=Z83qxvEAXMs&pp=ygUQTGluY29sbiBNZW1vcmlhbA%3D%3D'}, {'title': 'I Visit The 9-11 Memorial & Museum In New York', 'url': 'https://www.youtube.com/watch?v=YEx-6W_tZ4g&pp=ygUMTWVtb3JpYWwgTmV3'}, {'title': 'Dirty Dike - New Street (OFFICIAL VIDEO) (Prod. Pete Cannon)', 'url': 'https://www.youtube.com/watch?v=P-q406Mtz4k&pp=ygUKTmV3IFN0cmVldA%3D%3D'}, {'title': 'america - Kensington Ave Philadelphia - Streets of Philadelphia | April 22, 2024', 'url': 'https://www.youtube.com/watch?v=POwqRW_Im14&pp=ygUOU3RyZWV0IEFtZXJpY2E%3D'}, {'title': \"How Las Vegas Exists in America's Driest Desert\", 'url': 'https://www.youtube.com/watch?v=4U1TkIdDbRA&pp=ygULQW1lcmljYSBMYXM%3D'}, {'title': 'Is the MSG Sphere in Las Vegas Worth the Price? 🤔', 'url': 'https://www.youtube.com/watch?v=Ch5_h1wiNOk&pp=ygUJTGFzIFZlZ2Fz'}, {'title': 'Transportation Sec. Buttigieg on new high-speed rail between Los Angeles and Las Vegas', 'url': 'https://www.youtube.com/watch?v=3fgXgXmfkuA&pp=ygUMVmVnYXMgVW5pdGVk'}, {'title': '50 Best Places to Visit in the USA - Travel Video', 'url': 'https://www.youtube.com/watch?v=AneAgyUxBsg&pp=ygUMVW5pdGVkIFN0YXRl'}, {'title': 'Fifty States Song Alphabetical Order (Official Video) Fifty States of America Map | Patriotic Song', 'url': 'https://www.youtube.com/watch?v=Jr4SmWDgMgk&pp=ygUNU3RhdGUgQW1lcmljYQ%3D%3D'}]\n"
          ]
        }
      ],
      "source": [
        "print(youtube_data)"
      ]
    },
    {
      "cell_type": "code",
      "execution_count": null,
      "metadata": {
        "colab": {
          "base_uri": "https://localhost:8080/"
        },
        "id": "-0bp8oBSt4E7",
        "outputId": "f023b51d-5bf9-48df-c5a0-d15993b05369"
      },
      "outputs": [
        {
          "name": "stdout",
          "output_type": "stream",
          "text": [
            "[{'title': 'US News LIVE: House Votes On Aid For Ukraine, Israel, Taiwan | Mike Johnson | Congress | IN18L', 'url': 'https://www.youtube.com/watch?v=Xn21MthEU4Q&pp=ygUNVW5pdGVkIFN0YXRlcw%3D%3D'}, {'title': 'Race Highlights | 2023 United States Grand Prix', 'url': 'https://www.youtube.com/watch?v=OTbaG_uTn-M&pp=ygUMU3RhdGVzIEdyYW5k'}, {'title': 'The Grand Canyon Explained | How the Earth Was Made (S2, E1) | Full Documentary | History', 'url': 'https://www.youtube.com/watch?v=LaxaE7tcwu4&pp=ygUMR3JhbmQgQ2FueW9u'}, {'title': \"Grand Canyon - The Jaw-Dropping Beauty of America's National Park | Free Documentary Nature\", 'url': 'https://www.youtube.com/watch?v=hNcG76DqOiI&pp=ygUOQ2FueW9uIEFtZXJpY2E%3D'}, {'title': \"Wild Yosemite (Full Episode) | America's National Parks\", 'url': 'https://www.youtube.com/watch?v=-Hw4iTB_Zs4&pp=ygUQQW1lcmljYSBOYXRpb25hbA%3D%3D'}, {'title': '13 California State Parks You Must Visit', 'url': 'https://www.youtube.com/watch?v=qrGshkW8cZI&pp=ygUPUGFyayBDYWxpZm9ybmlh'}, {'title': 'Yellowstone National Park Vacation Travel Guide | Expedia', 'url': 'https://www.youtube.com/watch?v=bme0rs75Z3E&pp=ygUWQ2FsaWZvcm5pYSBZZWxsb3dzdG9uZQ%3D%3D'}, {'title': 'CTV National News | Sunday, April 21, 2024: Toronto man found not guilty in death of officer', 'url': 'https://www.youtube.com/watch?v=VdEmUvumwAc&pp=ygUMTmF0aW9uYWwgTmV3'}, {'title': 'Philadelphia 76ers vs New York Knicks Full Game 2 Highlights - April 22, 2024 | 2024 NBA Playoffs', 'url': 'https://www.youtube.com/watch?v=iaY-0alsv70&pp=ygUITmV3IFlvcms%3D'}, {'title': 'Statue of Liberty Facts for Kids | Learn all about this famous national monument', 'url': 'https://www.youtube.com/watch?v=UOraxP2BPok&pp=ygULWW9yayBTdGF0dWU%3D'}, {'title': \"What's inside the Statue of Liberty?\", 'url': 'https://www.youtube.com/watch?v=GkI_2yiIb48&pp=ygUOU3RhdHVlIExpYmVydHk%3D'}, {'title': 'Lincoln and Liberty', 'url': 'https://www.youtube.com/watch?v=MdX1MDmQbEs&pp=ygUPTGliZXJ0eSBMaW5jb2xu'}, {'title': 'The Lincoln Memorial at 100', 'url': 'https://www.youtube.com/watch?v=Z83qxvEAXMs&pp=ygUQTGluY29sbiBNZW1vcmlhbA%3D%3D'}, {'title': 'I Visit The 9-11 Memorial & Museum In New York', 'url': 'https://www.youtube.com/watch?v=YEx-6W_tZ4g&pp=ygUMTWVtb3JpYWwgTmV3'}, {'title': 'Dirty Dike - New Street (OFFICIAL VIDEO) (Prod. Pete Cannon)', 'url': 'https://www.youtube.com/watch?v=P-q406Mtz4k&pp=ygUKTmV3IFN0cmVldA%3D%3D'}, {'title': 'america - Kensington Ave Philadelphia - Streets of Philadelphia | April 22, 2024', 'url': 'https://www.youtube.com/watch?v=POwqRW_Im14&pp=ygUOU3RyZWV0IEFtZXJpY2E%3D'}, {'title': \"How Las Vegas Exists in America's Driest Desert\", 'url': 'https://www.youtube.com/watch?v=4U1TkIdDbRA&pp=ygULQW1lcmljYSBMYXM%3D'}, {'title': 'Is the MSG Sphere in Las Vegas Worth the Price? 🤔', 'url': 'https://www.youtube.com/watch?v=Ch5_h1wiNOk&pp=ygUJTGFzIFZlZ2Fz'}, {'title': 'Transportation Sec. Buttigieg on new high-speed rail between Los Angeles and Las Vegas', 'url': 'https://www.youtube.com/watch?v=3fgXgXmfkuA&pp=ygUMVmVnYXMgVW5pdGVk'}, {'title': '50 Best Places to Visit in the USA - Travel Video', 'url': 'https://www.youtube.com/watch?v=AneAgyUxBsg&pp=ygUMVW5pdGVkIFN0YXRl'}, {'title': 'Fifty States Song Alphabetical Order (Official Video) Fifty States of America Map | Patriotic Song', 'url': 'https://www.youtube.com/watch?v=Jr4SmWDgMgk&pp=ygUNU3RhdGUgQW1lcmljYQ%3D%3D'}]\n"
          ]
        }
      ],
      "source": [
        "encountered_titles = set()\n",
        "unique_youtube_data = []\n",
        "for d in youtube_data:\n",
        "    title = d['title']\n",
        "    if title not in encountered_titles:\n",
        "        encountered_titles.add(title)\n",
        "        unique_youtube_data.append(d)\n",
        "\n",
        "print(unique_youtube_data)"
      ]
    },
    {
      "cell_type": "markdown",
      "metadata": {
        "id": "dkykfyHAEozp"
      },
      "source": [
        "Outputting our final results"
      ]
    },
    {
      "cell_type": "code",
      "execution_count": null,
      "metadata": {
        "colab": {
          "base_uri": "https://localhost:8080/"
        },
        "id": "8PaVDBuBgiVO",
        "outputId": "f44c6769-541e-46e1-fc53-7959e2b0cb9e"
      },
      "outputs": [
        {
          "name": "stdout",
          "output_type": "stream",
          "text": [
            "Youtube videos that can be used as a reference for the above pdf-\n",
            "Video Title:US News LIVE: House Votes On Aid For Ukraine, Israel, Taiwan | Mike Johnson | Congress | IN18L\n",
            "Video Link:https://www.youtube.com/watch?v=Xn21MthEU4Q&pp=ygUNVW5pdGVkIFN0YXRlcw%3D%3D\n",
            "Video Title:Race Highlights | 2023 United States Grand Prix\n",
            "Video Link:https://www.youtube.com/watch?v=OTbaG_uTn-M&pp=ygUMU3RhdGVzIEdyYW5k\n",
            "Video Title:The Grand Canyon Explained | How the Earth Was Made (S2, E1) | Full Documentary | History\n",
            "Video Link:https://www.youtube.com/watch?v=LaxaE7tcwu4&pp=ygUMR3JhbmQgQ2FueW9u\n",
            "Video Title:Grand Canyon - The Jaw-Dropping Beauty of America's National Park | Free Documentary Nature\n",
            "Video Link:https://www.youtube.com/watch?v=hNcG76DqOiI&pp=ygUOQ2FueW9uIEFtZXJpY2E%3D\n",
            "Video Title:Wild Yosemite (Full Episode) | America's National Parks\n",
            "Video Link:https://www.youtube.com/watch?v=-Hw4iTB_Zs4&pp=ygUQQW1lcmljYSBOYXRpb25hbA%3D%3D\n",
            "Video Title:13 California State Parks You Must Visit\n",
            "Video Link:https://www.youtube.com/watch?v=qrGshkW8cZI&pp=ygUPUGFyayBDYWxpZm9ybmlh\n",
            "Video Title:Yellowstone National Park Vacation Travel Guide | Expedia\n",
            "Video Link:https://www.youtube.com/watch?v=bme0rs75Z3E&pp=ygUWQ2FsaWZvcm5pYSBZZWxsb3dzdG9uZQ%3D%3D\n",
            "Video Title:CTV National News | Sunday, April 21, 2024: Toronto man found not guilty in death of officer\n",
            "Video Link:https://www.youtube.com/watch?v=VdEmUvumwAc&pp=ygUMTmF0aW9uYWwgTmV3\n",
            "Video Title:Philadelphia 76ers vs New York Knicks Full Game 2 Highlights - April 22, 2024 | 2024 NBA Playoffs\n",
            "Video Link:https://www.youtube.com/watch?v=iaY-0alsv70&pp=ygUITmV3IFlvcms%3D\n",
            "Video Title:Statue of Liberty Facts for Kids | Learn all about this famous national monument\n",
            "Video Link:https://www.youtube.com/watch?v=UOraxP2BPok&pp=ygULWW9yayBTdGF0dWU%3D\n",
            "Video Title:What's inside the Statue of Liberty?\n",
            "Video Link:https://www.youtube.com/watch?v=GkI_2yiIb48&pp=ygUOU3RhdHVlIExpYmVydHk%3D\n",
            "Video Title:Lincoln and Liberty\n",
            "Video Link:https://www.youtube.com/watch?v=MdX1MDmQbEs&pp=ygUPTGliZXJ0eSBMaW5jb2xu\n",
            "Video Title:The Lincoln Memorial at 100\n",
            "Video Link:https://www.youtube.com/watch?v=Z83qxvEAXMs&pp=ygUQTGluY29sbiBNZW1vcmlhbA%3D%3D\n",
            "Video Title:I Visit The 9-11 Memorial & Museum In New York\n",
            "Video Link:https://www.youtube.com/watch?v=YEx-6W_tZ4g&pp=ygUMTWVtb3JpYWwgTmV3\n",
            "Video Title:Dirty Dike - New Street (OFFICIAL VIDEO) (Prod. Pete Cannon)\n",
            "Video Link:https://www.youtube.com/watch?v=P-q406Mtz4k&pp=ygUKTmV3IFN0cmVldA%3D%3D\n",
            "Video Title:america - Kensington Ave Philadelphia - Streets of Philadelphia | April 22, 2024\n",
            "Video Link:https://www.youtube.com/watch?v=POwqRW_Im14&pp=ygUOU3RyZWV0IEFtZXJpY2E%3D\n",
            "Video Title:How Las Vegas Exists in America's Driest Desert\n",
            "Video Link:https://www.youtube.com/watch?v=4U1TkIdDbRA&pp=ygULQW1lcmljYSBMYXM%3D\n",
            "Video Title:Is the MSG Sphere in Las Vegas Worth the Price? 🤔\n",
            "Video Link:https://www.youtube.com/watch?v=Ch5_h1wiNOk&pp=ygUJTGFzIFZlZ2Fz\n",
            "Video Title:Transportation Sec. Buttigieg on new high-speed rail between Los Angeles and Las Vegas\n",
            "Video Link:https://www.youtube.com/watch?v=3fgXgXmfkuA&pp=ygUMVmVnYXMgVW5pdGVk\n",
            "Video Title:50 Best Places to Visit in the USA - Travel Video\n",
            "Video Link:https://www.youtube.com/watch?v=AneAgyUxBsg&pp=ygUMVW5pdGVkIFN0YXRl\n",
            "Video Title:Fifty States Song Alphabetical Order (Official Video) Fifty States of America Map | Patriotic Song\n",
            "Video Link:https://www.youtube.com/watch?v=Jr4SmWDgMgk&pp=ygUNU3RhdGUgQW1lcmljYQ%3D%3D\n"
          ]
        }
      ],
      "source": [
        "print(\"Youtube videos that can be used as a reference for the above pdf-\")\n",
        "for ele in unique_youtube_data:\n",
        "  print(\"Video Title:\"+ele['title'])\n",
        "  print(\"Video Link:\"+ele['url'])\n",
        "\n"
      ]
    }
  ],
  "metadata": {
    "accelerator": "GPU",
    "colab": {
      "gpuType": "T4",
      "provenance": []
    },
    "kernelspec": {
      "display_name": "Python 3 (ipykernel)",
      "language": "python",
      "name": "python3"
    },
    "language_info": {
      "codemirror_mode": {
        "name": "ipython",
        "version": 3
      },
      "file_extension": ".py",
      "mimetype": "text/x-python",
      "name": "python",
      "nbconvert_exporter": "python",
      "pygments_lexer": "ipython3",
      "version": "3.11.5"
    },
    "widgets": {
      "application/vnd.jupyter.widget-state+json": {
        "01f015a690cb4bf1b90cc27540c3fc6e": {
          "model_module": "@jupyter-widgets/controls",
          "model_module_version": "1.5.0",
          "model_name": "FloatProgressModel",
          "state": {
            "_dom_classes": [],
            "_model_module": "@jupyter-widgets/controls",
            "_model_module_version": "1.5.0",
            "_model_name": "FloatProgressModel",
            "_view_count": null,
            "_view_module": "@jupyter-widgets/controls",
            "_view_module_version": "1.5.0",
            "_view_name": "ProgressView",
            "bar_style": "success",
            "description": "",
            "description_tooltip": null,
            "layout": "IPY_MODEL_6fdb293b73454ace9019bc9f77a523da",
            "max": 3771390,
            "min": 0,
            "orientation": "horizontal",
            "style": "IPY_MODEL_6c6b04cde878486792e0d4e6b49c0839",
            "value": 3771390
          }
        },
        "026195d2e2f84a56b9676063dbe29311": {
          "model_module": "@jupyter-widgets/controls",
          "model_module_version": "1.5.0",
          "model_name": "HBoxModel",
          "state": {
            "_dom_classes": [],
            "_model_module": "@jupyter-widgets/controls",
            "_model_module_version": "1.5.0",
            "_model_name": "HBoxModel",
            "_view_count": null,
            "_view_module": "@jupyter-widgets/controls",
            "_view_module_version": "1.5.0",
            "_view_name": "HBoxView",
            "box_style": "",
            "children": [
              "IPY_MODEL_1bdce188015946f383f75e14d5b1e690",
              "IPY_MODEL_746458992712460ebc624b8fe1c12590",
              "IPY_MODEL_75151d9447c5453e97dab80f774539e8"
            ],
            "layout": "IPY_MODEL_f6bb5c119d1b4afda47555ec55788114"
          }
        },
        "04ce521117f74e74a9bff41b764476d9": {
          "model_module": "@jupyter-widgets/base",
          "model_module_version": "1.2.0",
          "model_name": "LayoutModel",
          "state": {
            "_model_module": "@jupyter-widgets/base",
            "_model_module_version": "1.2.0",
            "_model_name": "LayoutModel",
            "_view_count": null,
            "_view_module": "@jupyter-widgets/base",
            "_view_module_version": "1.2.0",
            "_view_name": "LayoutView",
            "align_content": null,
            "align_items": null,
            "align_self": null,
            "border": null,
            "bottom": null,
            "display": null,
            "flex": null,
            "flex_flow": null,
            "grid_area": null,
            "grid_auto_columns": null,
            "grid_auto_flow": null,
            "grid_auto_rows": null,
            "grid_column": null,
            "grid_gap": null,
            "grid_row": null,
            "grid_template_areas": null,
            "grid_template_columns": null,
            "grid_template_rows": null,
            "height": null,
            "justify_content": null,
            "justify_items": null,
            "left": null,
            "margin": null,
            "max_height": null,
            "max_width": null,
            "min_height": null,
            "min_width": null,
            "object_fit": null,
            "object_position": null,
            "order": null,
            "overflow": null,
            "overflow_x": null,
            "overflow_y": null,
            "padding": null,
            "right": null,
            "top": null,
            "visibility": null,
            "width": null
          }
        },
        "07534d9fe25c43fabff426a6fb567357": {
          "model_module": "@jupyter-widgets/base",
          "model_module_version": "1.2.0",
          "model_name": "LayoutModel",
          "state": {
            "_model_module": "@jupyter-widgets/base",
            "_model_module_version": "1.2.0",
            "_model_name": "LayoutModel",
            "_view_count": null,
            "_view_module": "@jupyter-widgets/base",
            "_view_module_version": "1.2.0",
            "_view_name": "LayoutView",
            "align_content": null,
            "align_items": null,
            "align_self": null,
            "border": null,
            "bottom": null,
            "display": null,
            "flex": null,
            "flex_flow": null,
            "grid_area": null,
            "grid_auto_columns": null,
            "grid_auto_flow": null,
            "grid_auto_rows": null,
            "grid_column": null,
            "grid_gap": null,
            "grid_row": null,
            "grid_template_areas": null,
            "grid_template_columns": null,
            "grid_template_rows": null,
            "height": null,
            "justify_content": null,
            "justify_items": null,
            "left": null,
            "margin": null,
            "max_height": null,
            "max_width": null,
            "min_height": null,
            "min_width": null,
            "object_fit": null,
            "object_position": null,
            "order": null,
            "overflow": null,
            "overflow_x": null,
            "overflow_y": null,
            "padding": null,
            "right": null,
            "top": null,
            "visibility": null,
            "width": null
          }
        },
        "0a97f177a94949c2a843b9e2b0dd926a": {
          "model_module": "@jupyter-widgets/controls",
          "model_module_version": "1.5.0",
          "model_name": "ProgressStyleModel",
          "state": {
            "_model_module": "@jupyter-widgets/controls",
            "_model_module_version": "1.5.0",
            "_model_name": "ProgressStyleModel",
            "_view_count": null,
            "_view_module": "@jupyter-widgets/base",
            "_view_module_version": "1.2.0",
            "_view_name": "StyleView",
            "bar_color": null,
            "description_width": ""
          }
        },
        "0be7030a8d9a4c408359528654710272": {
          "model_module": "@jupyter-widgets/controls",
          "model_module_version": "1.5.0",
          "model_name": "HTMLModel",
          "state": {
            "_dom_classes": [],
            "_model_module": "@jupyter-widgets/controls",
            "_model_module_version": "1.5.0",
            "_model_name": "HTMLModel",
            "_view_count": null,
            "_view_module": "@jupyter-widgets/controls",
            "_view_module_version": "1.5.0",
            "_view_name": "HTMLView",
            "description": "",
            "description_tooltip": null,
            "layout": "IPY_MODEL_9d62ee7e9ce44e13985ba06bc60c59b1",
            "placeholder": "​",
            "style": "IPY_MODEL_d41483a1f5204b7e8f3716529536ddc8",
            "value": "Downloading data: 100%"
          }
        },
        "1229cf96d9e1434c99a07c875d6a108a": {
          "model_module": "@jupyter-widgets/controls",
          "model_module_version": "1.5.0",
          "model_name": "DescriptionStyleModel",
          "state": {
            "_model_module": "@jupyter-widgets/controls",
            "_model_module_version": "1.5.0",
            "_model_name": "DescriptionStyleModel",
            "_view_count": null,
            "_view_module": "@jupyter-widgets/base",
            "_view_module_version": "1.2.0",
            "_view_name": "StyleView",
            "description_width": ""
          }
        },
        "15242796f4e246aa8b2d7f83f322da9a": {
          "model_module": "@jupyter-widgets/controls",
          "model_module_version": "1.5.0",
          "model_name": "DescriptionStyleModel",
          "state": {
            "_model_module": "@jupyter-widgets/controls",
            "_model_module_version": "1.5.0",
            "_model_name": "DescriptionStyleModel",
            "_view_count": null,
            "_view_module": "@jupyter-widgets/base",
            "_view_module_version": "1.2.0",
            "_view_name": "StyleView",
            "description_width": ""
          }
        },
        "1a228006a9ca420399a4af31cf561ea6": {
          "model_module": "@jupyter-widgets/controls",
          "model_module_version": "1.5.0",
          "model_name": "HTMLModel",
          "state": {
            "_dom_classes": [],
            "_model_module": "@jupyter-widgets/controls",
            "_model_module_version": "1.5.0",
            "_model_name": "HTMLModel",
            "_view_count": null,
            "_view_module": "@jupyter-widgets/controls",
            "_view_module_version": "1.5.0",
            "_view_name": "HTMLView",
            "description": "",
            "description_tooltip": null,
            "layout": "IPY_MODEL_2693aa2a277d4580881a7a10fa97d3a8",
            "placeholder": "​",
            "style": "IPY_MODEL_7f04a6d1ab614b8aae50f452ca0fa3ae",
            "value": " 2.82M/2.82M [00:00&lt;00:00, 11.4MB/s]"
          }
        },
        "1bdce188015946f383f75e14d5b1e690": {
          "model_module": "@jupyter-widgets/controls",
          "model_module_version": "1.5.0",
          "model_name": "HTMLModel",
          "state": {
            "_dom_classes": [],
            "_model_module": "@jupyter-widgets/controls",
            "_model_module_version": "1.5.0",
            "_model_name": "HTMLModel",
            "_view_count": null,
            "_view_module": "@jupyter-widgets/controls",
            "_view_module_version": "1.5.0",
            "_view_name": "HTMLView",
            "description": "",
            "description_tooltip": null,
            "layout": "IPY_MODEL_ffde049bf11547339d1fe07aa75993d9",
            "placeholder": "​",
            "style": "IPY_MODEL_cd22d3ed64cb42a49a6ccbd1bd239f76",
            "value": "Downloading data: 100%"
          }
        },
        "210ad43c9a13401ca11b57d10849d232": {
          "model_module": "@jupyter-widgets/controls",
          "model_module_version": "1.5.0",
          "model_name": "DescriptionStyleModel",
          "state": {
            "_model_module": "@jupyter-widgets/controls",
            "_model_module_version": "1.5.0",
            "_model_name": "DescriptionStyleModel",
            "_view_count": null,
            "_view_module": "@jupyter-widgets/base",
            "_view_module_version": "1.2.0",
            "_view_name": "StyleView",
            "description_width": ""
          }
        },
        "24d5da5d5f42499cb48f3612026a8ab5": {
          "model_module": "@jupyter-widgets/base",
          "model_module_version": "1.2.0",
          "model_name": "LayoutModel",
          "state": {
            "_model_module": "@jupyter-widgets/base",
            "_model_module_version": "1.2.0",
            "_model_name": "LayoutModel",
            "_view_count": null,
            "_view_module": "@jupyter-widgets/base",
            "_view_module_version": "1.2.0",
            "_view_name": "LayoutView",
            "align_content": null,
            "align_items": null,
            "align_self": null,
            "border": null,
            "bottom": null,
            "display": null,
            "flex": null,
            "flex_flow": null,
            "grid_area": null,
            "grid_auto_columns": null,
            "grid_auto_flow": null,
            "grid_auto_rows": null,
            "grid_column": null,
            "grid_gap": null,
            "grid_row": null,
            "grid_template_areas": null,
            "grid_template_columns": null,
            "grid_template_rows": null,
            "height": null,
            "justify_content": null,
            "justify_items": null,
            "left": null,
            "margin": null,
            "max_height": null,
            "max_width": null,
            "min_height": null,
            "min_width": null,
            "object_fit": null,
            "object_position": null,
            "order": null,
            "overflow": null,
            "overflow_x": null,
            "overflow_y": null,
            "padding": null,
            "right": null,
            "top": null,
            "visibility": null,
            "width": null
          }
        },
        "2693aa2a277d4580881a7a10fa97d3a8": {
          "model_module": "@jupyter-widgets/base",
          "model_module_version": "1.2.0",
          "model_name": "LayoutModel",
          "state": {
            "_model_module": "@jupyter-widgets/base",
            "_model_module_version": "1.2.0",
            "_model_name": "LayoutModel",
            "_view_count": null,
            "_view_module": "@jupyter-widgets/base",
            "_view_module_version": "1.2.0",
            "_view_name": "LayoutView",
            "align_content": null,
            "align_items": null,
            "align_self": null,
            "border": null,
            "bottom": null,
            "display": null,
            "flex": null,
            "flex_flow": null,
            "grid_area": null,
            "grid_auto_columns": null,
            "grid_auto_flow": null,
            "grid_auto_rows": null,
            "grid_column": null,
            "grid_gap": null,
            "grid_row": null,
            "grid_template_areas": null,
            "grid_template_columns": null,
            "grid_template_rows": null,
            "height": null,
            "justify_content": null,
            "justify_items": null,
            "left": null,
            "margin": null,
            "max_height": null,
            "max_width": null,
            "min_height": null,
            "min_width": null,
            "object_fit": null,
            "object_position": null,
            "order": null,
            "overflow": null,
            "overflow_x": null,
            "overflow_y": null,
            "padding": null,
            "right": null,
            "top": null,
            "visibility": null,
            "width": null
          }
        },
        "2a430896b522484a8f6d6104599d073b": {
          "model_module": "@jupyter-widgets/base",
          "model_module_version": "1.2.0",
          "model_name": "LayoutModel",
          "state": {
            "_model_module": "@jupyter-widgets/base",
            "_model_module_version": "1.2.0",
            "_model_name": "LayoutModel",
            "_view_count": null,
            "_view_module": "@jupyter-widgets/base",
            "_view_module_version": "1.2.0",
            "_view_name": "LayoutView",
            "align_content": null,
            "align_items": null,
            "align_self": null,
            "border": null,
            "bottom": null,
            "display": null,
            "flex": null,
            "flex_flow": null,
            "grid_area": null,
            "grid_auto_columns": null,
            "grid_auto_flow": null,
            "grid_auto_rows": null,
            "grid_column": null,
            "grid_gap": null,
            "grid_row": null,
            "grid_template_areas": null,
            "grid_template_columns": null,
            "grid_template_rows": null,
            "height": null,
            "justify_content": null,
            "justify_items": null,
            "left": null,
            "margin": null,
            "max_height": null,
            "max_width": null,
            "min_height": null,
            "min_width": null,
            "object_fit": null,
            "object_position": null,
            "order": null,
            "overflow": null,
            "overflow_x": null,
            "overflow_y": null,
            "padding": null,
            "right": null,
            "top": null,
            "visibility": null,
            "width": null
          }
        },
        "3337afafb1874537af8e7ed633589b98": {
          "model_module": "@jupyter-widgets/controls",
          "model_module_version": "1.5.0",
          "model_name": "DescriptionStyleModel",
          "state": {
            "_model_module": "@jupyter-widgets/controls",
            "_model_module_version": "1.5.0",
            "_model_name": "DescriptionStyleModel",
            "_view_count": null,
            "_view_module": "@jupyter-widgets/base",
            "_view_module_version": "1.2.0",
            "_view_name": "StyleView",
            "description_width": ""
          }
        },
        "3aa2e2a32f724570b2236cc8e1dfe3cd": {
          "model_module": "@jupyter-widgets/controls",
          "model_module_version": "1.5.0",
          "model_name": "DescriptionStyleModel",
          "state": {
            "_model_module": "@jupyter-widgets/controls",
            "_model_module_version": "1.5.0",
            "_model_name": "DescriptionStyleModel",
            "_view_count": null,
            "_view_module": "@jupyter-widgets/base",
            "_view_module_version": "1.2.0",
            "_view_name": "StyleView",
            "description_width": ""
          }
        },
        "3aae6b2144514200b6ce46375f4914e9": {
          "model_module": "@jupyter-widgets/base",
          "model_module_version": "1.2.0",
          "model_name": "LayoutModel",
          "state": {
            "_model_module": "@jupyter-widgets/base",
            "_model_module_version": "1.2.0",
            "_model_name": "LayoutModel",
            "_view_count": null,
            "_view_module": "@jupyter-widgets/base",
            "_view_module_version": "1.2.0",
            "_view_name": "LayoutView",
            "align_content": null,
            "align_items": null,
            "align_self": null,
            "border": null,
            "bottom": null,
            "display": null,
            "flex": null,
            "flex_flow": null,
            "grid_area": null,
            "grid_auto_columns": null,
            "grid_auto_flow": null,
            "grid_auto_rows": null,
            "grid_column": null,
            "grid_gap": null,
            "grid_row": null,
            "grid_template_areas": null,
            "grid_template_columns": null,
            "grid_template_rows": null,
            "height": null,
            "justify_content": null,
            "justify_items": null,
            "left": null,
            "margin": null,
            "max_height": null,
            "max_width": null,
            "min_height": null,
            "min_width": null,
            "object_fit": null,
            "object_position": null,
            "order": null,
            "overflow": null,
            "overflow_x": null,
            "overflow_y": null,
            "padding": null,
            "right": null,
            "top": null,
            "visibility": null,
            "width": null
          }
        },
        "3efa60484a164e1d97e381f6b4bfb837": {
          "model_module": "@jupyter-widgets/controls",
          "model_module_version": "1.5.0",
          "model_name": "HTMLModel",
          "state": {
            "_dom_classes": [],
            "_model_module": "@jupyter-widgets/controls",
            "_model_module_version": "1.5.0",
            "_model_name": "HTMLModel",
            "_view_count": null,
            "_view_module": "@jupyter-widgets/controls",
            "_view_module_version": "1.5.0",
            "_view_name": "HTMLView",
            "description": "",
            "description_tooltip": null,
            "layout": "IPY_MODEL_62f81b8ca466461987d2d84358fdd33f",
            "placeholder": "​",
            "style": "IPY_MODEL_1229cf96d9e1434c99a07c875d6a108a",
            "value": "Generating validation split: 100%"
          }
        },
        "3fe3d2857b6848d7ab713b1fd02e2ca8": {
          "model_module": "@jupyter-widgets/controls",
          "model_module_version": "1.5.0",
          "model_name": "HBoxModel",
          "state": {
            "_dom_classes": [],
            "_model_module": "@jupyter-widgets/controls",
            "_model_module_version": "1.5.0",
            "_model_name": "HBoxModel",
            "_view_count": null,
            "_view_module": "@jupyter-widgets/controls",
            "_view_module_version": "1.5.0",
            "_view_name": "HBoxView",
            "box_style": "",
            "children": [
              "IPY_MODEL_3efa60484a164e1d97e381f6b4bfb837",
              "IPY_MODEL_76010e9c5b19434ea8fc97995d2afd75",
              "IPY_MODEL_405940820b224fb3ac9a2fa1beea53df"
            ],
            "layout": "IPY_MODEL_a97459f45c184149abe6cc804cb4d458"
          }
        },
        "405940820b224fb3ac9a2fa1beea53df": {
          "model_module": "@jupyter-widgets/controls",
          "model_module_version": "1.5.0",
          "model_name": "HTMLModel",
          "state": {
            "_dom_classes": [],
            "_model_module": "@jupyter-widgets/controls",
            "_model_module_version": "1.5.0",
            "_model_name": "HTMLModel",
            "_view_count": null,
            "_view_module": "@jupyter-widgets/controls",
            "_view_module_version": "1.5.0",
            "_view_name": "HTMLView",
            "description": "",
            "description_tooltip": null,
            "layout": "IPY_MODEL_5aa5b03f3837492a9d2c3ec6ad3d4de4",
            "placeholder": "​",
            "style": "IPY_MODEL_3aa2e2a32f724570b2236cc8e1dfe3cd",
            "value": " 1370/1370 [00:00&lt;00:00, 5858.15 examples/s]"
          }
        },
        "46dce65509ab4f4482a09714a6eaa5a1": {
          "model_module": "@jupyter-widgets/controls",
          "model_module_version": "1.5.0",
          "model_name": "HBoxModel",
          "state": {
            "_dom_classes": [],
            "_model_module": "@jupyter-widgets/controls",
            "_model_module_version": "1.5.0",
            "_model_name": "HBoxModel",
            "_view_count": null,
            "_view_module": "@jupyter-widgets/controls",
            "_view_module_version": "1.5.0",
            "_view_name": "HBoxView",
            "box_style": "",
            "children": [
              "IPY_MODEL_f9f3c72c855048cc9e3be84ddbb8d5d4",
              "IPY_MODEL_c16de205a9ac47a8b430e2ee1fbafe1c",
              "IPY_MODEL_4749d27728044392bb31a05eb520f37d"
            ],
            "layout": "IPY_MODEL_55fce69eb4444bd0bd37be414047ed8c"
          }
        },
        "4749d27728044392bb31a05eb520f37d": {
          "model_module": "@jupyter-widgets/controls",
          "model_module_version": "1.5.0",
          "model_name": "HTMLModel",
          "state": {
            "_dom_classes": [],
            "_model_module": "@jupyter-widgets/controls",
            "_model_module_version": "1.5.0",
            "_model_name": "HTMLModel",
            "_view_count": null,
            "_view_module": "@jupyter-widgets/controls",
            "_view_module_version": "1.5.0",
            "_view_name": "HTMLView",
            "description": "",
            "description_tooltip": null,
            "layout": "IPY_MODEL_83b7ee3d3e764829aa9043e803a2250b",
            "placeholder": "​",
            "style": "IPY_MODEL_4929d49c7dcc41f9a5583d8383780962",
            "value": " 10539/10539 [00:01&lt;00:00, 4478.58 examples/s]"
          }
        },
        "4929d49c7dcc41f9a5583d8383780962": {
          "model_module": "@jupyter-widgets/controls",
          "model_module_version": "1.5.0",
          "model_name": "DescriptionStyleModel",
          "state": {
            "_model_module": "@jupyter-widgets/controls",
            "_model_module_version": "1.5.0",
            "_model_name": "DescriptionStyleModel",
            "_view_count": null,
            "_view_module": "@jupyter-widgets/base",
            "_view_module_version": "1.2.0",
            "_view_name": "StyleView",
            "description_width": ""
          }
        },
        "4d54e68cc72248c3a69ee4b5fc039ca7": {
          "model_module": "@jupyter-widgets/controls",
          "model_module_version": "1.5.0",
          "model_name": "HTMLModel",
          "state": {
            "_dom_classes": [],
            "_model_module": "@jupyter-widgets/controls",
            "_model_module_version": "1.5.0",
            "_model_name": "HTMLModel",
            "_view_count": null,
            "_view_module": "@jupyter-widgets/controls",
            "_view_module_version": "1.5.0",
            "_view_name": "HTMLView",
            "description": "",
            "description_tooltip": null,
            "layout": "IPY_MODEL_2a430896b522484a8f6d6104599d073b",
            "placeholder": "​",
            "style": "IPY_MODEL_9993991968de490d869779f0b4aabb06",
            "value": "Generating test split: 100%"
          }
        },
        "55fce69eb4444bd0bd37be414047ed8c": {
          "model_module": "@jupyter-widgets/base",
          "model_module_version": "1.2.0",
          "model_name": "LayoutModel",
          "state": {
            "_model_module": "@jupyter-widgets/base",
            "_model_module_version": "1.2.0",
            "_model_name": "LayoutModel",
            "_view_count": null,
            "_view_module": "@jupyter-widgets/base",
            "_view_module_version": "1.2.0",
            "_view_name": "LayoutView",
            "align_content": null,
            "align_items": null,
            "align_self": null,
            "border": null,
            "bottom": null,
            "display": null,
            "flex": null,
            "flex_flow": null,
            "grid_area": null,
            "grid_auto_columns": null,
            "grid_auto_flow": null,
            "grid_auto_rows": null,
            "grid_column": null,
            "grid_gap": null,
            "grid_row": null,
            "grid_template_areas": null,
            "grid_template_columns": null,
            "grid_template_rows": null,
            "height": null,
            "justify_content": null,
            "justify_items": null,
            "left": null,
            "margin": null,
            "max_height": null,
            "max_width": null,
            "min_height": null,
            "min_width": null,
            "object_fit": null,
            "object_position": null,
            "order": null,
            "overflow": null,
            "overflow_x": null,
            "overflow_y": null,
            "padding": null,
            "right": null,
            "top": null,
            "visibility": null,
            "width": null
          }
        },
        "5a4efe8a43634fb991c5356ff599b366": {
          "model_module": "@jupyter-widgets/base",
          "model_module_version": "1.2.0",
          "model_name": "LayoutModel",
          "state": {
            "_model_module": "@jupyter-widgets/base",
            "_model_module_version": "1.2.0",
            "_model_name": "LayoutModel",
            "_view_count": null,
            "_view_module": "@jupyter-widgets/base",
            "_view_module_version": "1.2.0",
            "_view_name": "LayoutView",
            "align_content": null,
            "align_items": null,
            "align_self": null,
            "border": null,
            "bottom": null,
            "display": null,
            "flex": null,
            "flex_flow": null,
            "grid_area": null,
            "grid_auto_columns": null,
            "grid_auto_flow": null,
            "grid_auto_rows": null,
            "grid_column": null,
            "grid_gap": null,
            "grid_row": null,
            "grid_template_areas": null,
            "grid_template_columns": null,
            "grid_template_rows": null,
            "height": null,
            "justify_content": null,
            "justify_items": null,
            "left": null,
            "margin": null,
            "max_height": null,
            "max_width": null,
            "min_height": null,
            "min_width": null,
            "object_fit": null,
            "object_position": null,
            "order": null,
            "overflow": null,
            "overflow_x": null,
            "overflow_y": null,
            "padding": null,
            "right": null,
            "top": null,
            "visibility": null,
            "width": null
          }
        },
        "5aa5b03f3837492a9d2c3ec6ad3d4de4": {
          "model_module": "@jupyter-widgets/base",
          "model_module_version": "1.2.0",
          "model_name": "LayoutModel",
          "state": {
            "_model_module": "@jupyter-widgets/base",
            "_model_module_version": "1.2.0",
            "_model_name": "LayoutModel",
            "_view_count": null,
            "_view_module": "@jupyter-widgets/base",
            "_view_module_version": "1.2.0",
            "_view_name": "LayoutView",
            "align_content": null,
            "align_items": null,
            "align_self": null,
            "border": null,
            "bottom": null,
            "display": null,
            "flex": null,
            "flex_flow": null,
            "grid_area": null,
            "grid_auto_columns": null,
            "grid_auto_flow": null,
            "grid_auto_rows": null,
            "grid_column": null,
            "grid_gap": null,
            "grid_row": null,
            "grid_template_areas": null,
            "grid_template_columns": null,
            "grid_template_rows": null,
            "height": null,
            "justify_content": null,
            "justify_items": null,
            "left": null,
            "margin": null,
            "max_height": null,
            "max_width": null,
            "min_height": null,
            "min_width": null,
            "object_fit": null,
            "object_position": null,
            "order": null,
            "overflow": null,
            "overflow_x": null,
            "overflow_y": null,
            "padding": null,
            "right": null,
            "top": null,
            "visibility": null,
            "width": null
          }
        },
        "6012b7d5ce5c4d508400df7ae12a354b": {
          "model_module": "@jupyter-widgets/base",
          "model_module_version": "1.2.0",
          "model_name": "LayoutModel",
          "state": {
            "_model_module": "@jupyter-widgets/base",
            "_model_module_version": "1.2.0",
            "_model_name": "LayoutModel",
            "_view_count": null,
            "_view_module": "@jupyter-widgets/base",
            "_view_module_version": "1.2.0",
            "_view_name": "LayoutView",
            "align_content": null,
            "align_items": null,
            "align_self": null,
            "border": null,
            "bottom": null,
            "display": null,
            "flex": null,
            "flex_flow": null,
            "grid_area": null,
            "grid_auto_columns": null,
            "grid_auto_flow": null,
            "grid_auto_rows": null,
            "grid_column": null,
            "grid_gap": null,
            "grid_row": null,
            "grid_template_areas": null,
            "grid_template_columns": null,
            "grid_template_rows": null,
            "height": null,
            "justify_content": null,
            "justify_items": null,
            "left": null,
            "margin": null,
            "max_height": null,
            "max_width": null,
            "min_height": null,
            "min_width": null,
            "object_fit": null,
            "object_position": null,
            "order": null,
            "overflow": null,
            "overflow_x": null,
            "overflow_y": null,
            "padding": null,
            "right": null,
            "top": null,
            "visibility": null,
            "width": null
          }
        },
        "62f81b8ca466461987d2d84358fdd33f": {
          "model_module": "@jupyter-widgets/base",
          "model_module_version": "1.2.0",
          "model_name": "LayoutModel",
          "state": {
            "_model_module": "@jupyter-widgets/base",
            "_model_module_version": "1.2.0",
            "_model_name": "LayoutModel",
            "_view_count": null,
            "_view_module": "@jupyter-widgets/base",
            "_view_module_version": "1.2.0",
            "_view_name": "LayoutView",
            "align_content": null,
            "align_items": null,
            "align_self": null,
            "border": null,
            "bottom": null,
            "display": null,
            "flex": null,
            "flex_flow": null,
            "grid_area": null,
            "grid_auto_columns": null,
            "grid_auto_flow": null,
            "grid_auto_rows": null,
            "grid_column": null,
            "grid_gap": null,
            "grid_row": null,
            "grid_template_areas": null,
            "grid_template_columns": null,
            "grid_template_rows": null,
            "height": null,
            "justify_content": null,
            "justify_items": null,
            "left": null,
            "margin": null,
            "max_height": null,
            "max_width": null,
            "min_height": null,
            "min_width": null,
            "object_fit": null,
            "object_position": null,
            "order": null,
            "overflow": null,
            "overflow_x": null,
            "overflow_y": null,
            "padding": null,
            "right": null,
            "top": null,
            "visibility": null,
            "width": null
          }
        },
        "67951125b7a548dea6f570cfbf187169": {
          "model_module": "@jupyter-widgets/controls",
          "model_module_version": "1.5.0",
          "model_name": "DescriptionStyleModel",
          "state": {
            "_model_module": "@jupyter-widgets/controls",
            "_model_module_version": "1.5.0",
            "_model_name": "DescriptionStyleModel",
            "_view_count": null,
            "_view_module": "@jupyter-widgets/base",
            "_view_module_version": "1.2.0",
            "_view_name": "StyleView",
            "description_width": ""
          }
        },
        "6c6b04cde878486792e0d4e6b49c0839": {
          "model_module": "@jupyter-widgets/controls",
          "model_module_version": "1.5.0",
          "model_name": "ProgressStyleModel",
          "state": {
            "_model_module": "@jupyter-widgets/controls",
            "_model_module_version": "1.5.0",
            "_model_name": "ProgressStyleModel",
            "_view_count": null,
            "_view_module": "@jupyter-widgets/base",
            "_view_module_version": "1.2.0",
            "_view_name": "StyleView",
            "bar_color": null,
            "description_width": ""
          }
        },
        "6fdb293b73454ace9019bc9f77a523da": {
          "model_module": "@jupyter-widgets/base",
          "model_module_version": "1.2.0",
          "model_name": "LayoutModel",
          "state": {
            "_model_module": "@jupyter-widgets/base",
            "_model_module_version": "1.2.0",
            "_model_name": "LayoutModel",
            "_view_count": null,
            "_view_module": "@jupyter-widgets/base",
            "_view_module_version": "1.2.0",
            "_view_name": "LayoutView",
            "align_content": null,
            "align_items": null,
            "align_self": null,
            "border": null,
            "bottom": null,
            "display": null,
            "flex": null,
            "flex_flow": null,
            "grid_area": null,
            "grid_auto_columns": null,
            "grid_auto_flow": null,
            "grid_auto_rows": null,
            "grid_column": null,
            "grid_gap": null,
            "grid_row": null,
            "grid_template_areas": null,
            "grid_template_columns": null,
            "grid_template_rows": null,
            "height": null,
            "justify_content": null,
            "justify_items": null,
            "left": null,
            "margin": null,
            "max_height": null,
            "max_width": null,
            "min_height": null,
            "min_width": null,
            "object_fit": null,
            "object_position": null,
            "order": null,
            "overflow": null,
            "overflow_x": null,
            "overflow_y": null,
            "padding": null,
            "right": null,
            "top": null,
            "visibility": null,
            "width": null
          }
        },
        "746458992712460ebc624b8fe1c12590": {
          "model_module": "@jupyter-widgets/controls",
          "model_module_version": "1.5.0",
          "model_name": "FloatProgressModel",
          "state": {
            "_dom_classes": [],
            "_model_module": "@jupyter-widgets/controls",
            "_model_module_version": "1.5.0",
            "_model_name": "FloatProgressModel",
            "_view_count": null,
            "_view_module": "@jupyter-widgets/controls",
            "_view_module_version": "1.5.0",
            "_view_name": "ProgressView",
            "bar_style": "success",
            "description": "",
            "description_tooltip": null,
            "layout": "IPY_MODEL_b1033c6b6bb1464c88b06c0914dbfed8",
            "max": 26215996,
            "min": 0,
            "orientation": "horizontal",
            "style": "IPY_MODEL_ebf6342a54c3412ab010bdb62698cdb3",
            "value": 26215996
          }
        },
        "75151d9447c5453e97dab80f774539e8": {
          "model_module": "@jupyter-widgets/controls",
          "model_module_version": "1.5.0",
          "model_name": "HTMLModel",
          "state": {
            "_dom_classes": [],
            "_model_module": "@jupyter-widgets/controls",
            "_model_module_version": "1.5.0",
            "_model_name": "HTMLModel",
            "_view_count": null,
            "_view_module": "@jupyter-widgets/controls",
            "_view_module_version": "1.5.0",
            "_view_name": "HTMLView",
            "description": "",
            "description_tooltip": null,
            "layout": "IPY_MODEL_24d5da5d5f42499cb48f3612026a8ab5",
            "placeholder": "​",
            "style": "IPY_MODEL_3337afafb1874537af8e7ed633589b98",
            "value": " 26.2M/26.2M [00:00&lt;00:00, 28.5MB/s]"
          }
        },
        "76010e9c5b19434ea8fc97995d2afd75": {
          "model_module": "@jupyter-widgets/controls",
          "model_module_version": "1.5.0",
          "model_name": "FloatProgressModel",
          "state": {
            "_dom_classes": [],
            "_model_module": "@jupyter-widgets/controls",
            "_model_module_version": "1.5.0",
            "_model_name": "FloatProgressModel",
            "_view_count": null,
            "_view_module": "@jupyter-widgets/controls",
            "_view_module_version": "1.5.0",
            "_view_name": "ProgressView",
            "bar_style": "success",
            "description": "",
            "description_tooltip": null,
            "layout": "IPY_MODEL_07534d9fe25c43fabff426a6fb567357",
            "max": 1370,
            "min": 0,
            "orientation": "horizontal",
            "style": "IPY_MODEL_e075fd06577649259de04aa55c858d19",
            "value": 1370
          }
        },
        "7bd795114d9946d18e9defe1c685f5d2": {
          "model_module": "@jupyter-widgets/controls",
          "model_module_version": "1.5.0",
          "model_name": "ProgressStyleModel",
          "state": {
            "_model_module": "@jupyter-widgets/controls",
            "_model_module_version": "1.5.0",
            "_model_name": "ProgressStyleModel",
            "_view_count": null,
            "_view_module": "@jupyter-widgets/base",
            "_view_module_version": "1.2.0",
            "_view_name": "StyleView",
            "bar_color": null,
            "description_width": ""
          }
        },
        "7d15d1fab6924764b4a10ef6285d9ce2": {
          "model_module": "@jupyter-widgets/base",
          "model_module_version": "1.2.0",
          "model_name": "LayoutModel",
          "state": {
            "_model_module": "@jupyter-widgets/base",
            "_model_module_version": "1.2.0",
            "_model_name": "LayoutModel",
            "_view_count": null,
            "_view_module": "@jupyter-widgets/base",
            "_view_module_version": "1.2.0",
            "_view_name": "LayoutView",
            "align_content": null,
            "align_items": null,
            "align_self": null,
            "border": null,
            "bottom": null,
            "display": null,
            "flex": null,
            "flex_flow": null,
            "grid_area": null,
            "grid_auto_columns": null,
            "grid_auto_flow": null,
            "grid_auto_rows": null,
            "grid_column": null,
            "grid_gap": null,
            "grid_row": null,
            "grid_template_areas": null,
            "grid_template_columns": null,
            "grid_template_rows": null,
            "height": null,
            "justify_content": null,
            "justify_items": null,
            "left": null,
            "margin": null,
            "max_height": null,
            "max_width": null,
            "min_height": null,
            "min_width": null,
            "object_fit": null,
            "object_position": null,
            "order": null,
            "overflow": null,
            "overflow_x": null,
            "overflow_y": null,
            "padding": null,
            "right": null,
            "top": null,
            "visibility": null,
            "width": null
          }
        },
        "7f04a6d1ab614b8aae50f452ca0fa3ae": {
          "model_module": "@jupyter-widgets/controls",
          "model_module_version": "1.5.0",
          "model_name": "DescriptionStyleModel",
          "state": {
            "_model_module": "@jupyter-widgets/controls",
            "_model_module_version": "1.5.0",
            "_model_name": "DescriptionStyleModel",
            "_view_count": null,
            "_view_module": "@jupyter-widgets/base",
            "_view_module_version": "1.2.0",
            "_view_name": "StyleView",
            "description_width": ""
          }
        },
        "83b7ee3d3e764829aa9043e803a2250b": {
          "model_module": "@jupyter-widgets/base",
          "model_module_version": "1.2.0",
          "model_name": "LayoutModel",
          "state": {
            "_model_module": "@jupyter-widgets/base",
            "_model_module_version": "1.2.0",
            "_model_name": "LayoutModel",
            "_view_count": null,
            "_view_module": "@jupyter-widgets/base",
            "_view_module_version": "1.2.0",
            "_view_name": "LayoutView",
            "align_content": null,
            "align_items": null,
            "align_self": null,
            "border": null,
            "bottom": null,
            "display": null,
            "flex": null,
            "flex_flow": null,
            "grid_area": null,
            "grid_auto_columns": null,
            "grid_auto_flow": null,
            "grid_auto_rows": null,
            "grid_column": null,
            "grid_gap": null,
            "grid_row": null,
            "grid_template_areas": null,
            "grid_template_columns": null,
            "grid_template_rows": null,
            "height": null,
            "justify_content": null,
            "justify_items": null,
            "left": null,
            "margin": null,
            "max_height": null,
            "max_width": null,
            "min_height": null,
            "min_width": null,
            "object_fit": null,
            "object_position": null,
            "order": null,
            "overflow": null,
            "overflow_x": null,
            "overflow_y": null,
            "padding": null,
            "right": null,
            "top": null,
            "visibility": null,
            "width": null
          }
        },
        "87696e6b532143e998db24e13e71aa19": {
          "model_module": "@jupyter-widgets/controls",
          "model_module_version": "1.5.0",
          "model_name": "HTMLModel",
          "state": {
            "_dom_classes": [],
            "_model_module": "@jupyter-widgets/controls",
            "_model_module_version": "1.5.0",
            "_model_name": "HTMLModel",
            "_view_count": null,
            "_view_module": "@jupyter-widgets/controls",
            "_view_module_version": "1.5.0",
            "_view_name": "HTMLView",
            "description": "",
            "description_tooltip": null,
            "layout": "IPY_MODEL_7d15d1fab6924764b4a10ef6285d9ce2",
            "placeholder": "​",
            "style": "IPY_MODEL_15242796f4e246aa8b2d7f83f322da9a",
            "value": " 1200/1200 [00:00&lt;00:00, 5838.74 examples/s]"
          }
        },
        "8d5ad60ee1da4ef4823ed2ebff6a2b35": {
          "model_module": "@jupyter-widgets/base",
          "model_module_version": "1.2.0",
          "model_name": "LayoutModel",
          "state": {
            "_model_module": "@jupyter-widgets/base",
            "_model_module_version": "1.2.0",
            "_model_name": "LayoutModel",
            "_view_count": null,
            "_view_module": "@jupyter-widgets/base",
            "_view_module_version": "1.2.0",
            "_view_name": "LayoutView",
            "align_content": null,
            "align_items": null,
            "align_self": null,
            "border": null,
            "bottom": null,
            "display": null,
            "flex": null,
            "flex_flow": null,
            "grid_area": null,
            "grid_auto_columns": null,
            "grid_auto_flow": null,
            "grid_auto_rows": null,
            "grid_column": null,
            "grid_gap": null,
            "grid_row": null,
            "grid_template_areas": null,
            "grid_template_columns": null,
            "grid_template_rows": null,
            "height": null,
            "justify_content": null,
            "justify_items": null,
            "left": null,
            "margin": null,
            "max_height": null,
            "max_width": null,
            "min_height": null,
            "min_width": null,
            "object_fit": null,
            "object_position": null,
            "order": null,
            "overflow": null,
            "overflow_x": null,
            "overflow_y": null,
            "padding": null,
            "right": null,
            "top": null,
            "visibility": null,
            "width": null
          }
        },
        "95c6f9e00caf45a5aee2e9425c628bd1": {
          "model_module": "@jupyter-widgets/controls",
          "model_module_version": "1.5.0",
          "model_name": "DescriptionStyleModel",
          "state": {
            "_model_module": "@jupyter-widgets/controls",
            "_model_module_version": "1.5.0",
            "_model_name": "DescriptionStyleModel",
            "_view_count": null,
            "_view_module": "@jupyter-widgets/base",
            "_view_module_version": "1.2.0",
            "_view_name": "StyleView",
            "description_width": ""
          }
        },
        "998cf5715bdd4eafbfb1e372f33fd49d": {
          "model_module": "@jupyter-widgets/controls",
          "model_module_version": "1.5.0",
          "model_name": "HTMLModel",
          "state": {
            "_dom_classes": [],
            "_model_module": "@jupyter-widgets/controls",
            "_model_module_version": "1.5.0",
            "_model_name": "HTMLModel",
            "_view_count": null,
            "_view_module": "@jupyter-widgets/controls",
            "_view_module_version": "1.5.0",
            "_view_name": "HTMLView",
            "description": "",
            "description_tooltip": null,
            "layout": "IPY_MODEL_6012b7d5ce5c4d508400df7ae12a354b",
            "placeholder": "​",
            "style": "IPY_MODEL_67951125b7a548dea6f570cfbf187169",
            "value": " 3.77M/3.77M [00:00&lt;00:00, 18.8MB/s]"
          }
        },
        "9993991968de490d869779f0b4aabb06": {
          "model_module": "@jupyter-widgets/controls",
          "model_module_version": "1.5.0",
          "model_name": "DescriptionStyleModel",
          "state": {
            "_model_module": "@jupyter-widgets/controls",
            "_model_module_version": "1.5.0",
            "_model_name": "DescriptionStyleModel",
            "_view_count": null,
            "_view_module": "@jupyter-widgets/base",
            "_view_module_version": "1.2.0",
            "_view_name": "StyleView",
            "description_width": ""
          }
        },
        "9d4ae5aa1ad3435a9d18f37a901cf325": {
          "model_module": "@jupyter-widgets/base",
          "model_module_version": "1.2.0",
          "model_name": "LayoutModel",
          "state": {
            "_model_module": "@jupyter-widgets/base",
            "_model_module_version": "1.2.0",
            "_model_name": "LayoutModel",
            "_view_count": null,
            "_view_module": "@jupyter-widgets/base",
            "_view_module_version": "1.2.0",
            "_view_name": "LayoutView",
            "align_content": null,
            "align_items": null,
            "align_self": null,
            "border": null,
            "bottom": null,
            "display": null,
            "flex": null,
            "flex_flow": null,
            "grid_area": null,
            "grid_auto_columns": null,
            "grid_auto_flow": null,
            "grid_auto_rows": null,
            "grid_column": null,
            "grid_gap": null,
            "grid_row": null,
            "grid_template_areas": null,
            "grid_template_columns": null,
            "grid_template_rows": null,
            "height": null,
            "justify_content": null,
            "justify_items": null,
            "left": null,
            "margin": null,
            "max_height": null,
            "max_width": null,
            "min_height": null,
            "min_width": null,
            "object_fit": null,
            "object_position": null,
            "order": null,
            "overflow": null,
            "overflow_x": null,
            "overflow_y": null,
            "padding": null,
            "right": null,
            "top": null,
            "visibility": null,
            "width": null
          }
        },
        "9d62ee7e9ce44e13985ba06bc60c59b1": {
          "model_module": "@jupyter-widgets/base",
          "model_module_version": "1.2.0",
          "model_name": "LayoutModel",
          "state": {
            "_model_module": "@jupyter-widgets/base",
            "_model_module_version": "1.2.0",
            "_model_name": "LayoutModel",
            "_view_count": null,
            "_view_module": "@jupyter-widgets/base",
            "_view_module_version": "1.2.0",
            "_view_name": "LayoutView",
            "align_content": null,
            "align_items": null,
            "align_self": null,
            "border": null,
            "bottom": null,
            "display": null,
            "flex": null,
            "flex_flow": null,
            "grid_area": null,
            "grid_auto_columns": null,
            "grid_auto_flow": null,
            "grid_auto_rows": null,
            "grid_column": null,
            "grid_gap": null,
            "grid_row": null,
            "grid_template_areas": null,
            "grid_template_columns": null,
            "grid_template_rows": null,
            "height": null,
            "justify_content": null,
            "justify_items": null,
            "left": null,
            "margin": null,
            "max_height": null,
            "max_width": null,
            "min_height": null,
            "min_width": null,
            "object_fit": null,
            "object_position": null,
            "order": null,
            "overflow": null,
            "overflow_x": null,
            "overflow_y": null,
            "padding": null,
            "right": null,
            "top": null,
            "visibility": null,
            "width": null
          }
        },
        "9e829f91856a42898d6cd3b1b5788212": {
          "model_module": "@jupyter-widgets/controls",
          "model_module_version": "1.5.0",
          "model_name": "HBoxModel",
          "state": {
            "_dom_classes": [],
            "_model_module": "@jupyter-widgets/controls",
            "_model_module_version": "1.5.0",
            "_model_name": "HBoxModel",
            "_view_count": null,
            "_view_module": "@jupyter-widgets/controls",
            "_view_module_version": "1.5.0",
            "_view_name": "HBoxView",
            "box_style": "",
            "children": [
              "IPY_MODEL_0be7030a8d9a4c408359528654710272",
              "IPY_MODEL_dad3041d6601457194d6fb3a6785365c",
              "IPY_MODEL_1a228006a9ca420399a4af31cf561ea6"
            ],
            "layout": "IPY_MODEL_3aae6b2144514200b6ce46375f4914e9"
          }
        },
        "a077a56467c044478d37175b167ec83c": {
          "model_module": "@jupyter-widgets/controls",
          "model_module_version": "1.5.0",
          "model_name": "FloatProgressModel",
          "state": {
            "_dom_classes": [],
            "_model_module": "@jupyter-widgets/controls",
            "_model_module_version": "1.5.0",
            "_model_name": "FloatProgressModel",
            "_view_count": null,
            "_view_module": "@jupyter-widgets/controls",
            "_view_module_version": "1.5.0",
            "_view_name": "ProgressView",
            "bar_style": "success",
            "description": "",
            "description_tooltip": null,
            "layout": "IPY_MODEL_c07f1b9e6cbc486681e826ea12a2b141",
            "max": 1200,
            "min": 0,
            "orientation": "horizontal",
            "style": "IPY_MODEL_7bd795114d9946d18e9defe1c685f5d2",
            "value": 1200
          }
        },
        "a97459f45c184149abe6cc804cb4d458": {
          "model_module": "@jupyter-widgets/base",
          "model_module_version": "1.2.0",
          "model_name": "LayoutModel",
          "state": {
            "_model_module": "@jupyter-widgets/base",
            "_model_module_version": "1.2.0",
            "_model_name": "LayoutModel",
            "_view_count": null,
            "_view_module": "@jupyter-widgets/base",
            "_view_module_version": "1.2.0",
            "_view_name": "LayoutView",
            "align_content": null,
            "align_items": null,
            "align_self": null,
            "border": null,
            "bottom": null,
            "display": null,
            "flex": null,
            "flex_flow": null,
            "grid_area": null,
            "grid_auto_columns": null,
            "grid_auto_flow": null,
            "grid_auto_rows": null,
            "grid_column": null,
            "grid_gap": null,
            "grid_row": null,
            "grid_template_areas": null,
            "grid_template_columns": null,
            "grid_template_rows": null,
            "height": null,
            "justify_content": null,
            "justify_items": null,
            "left": null,
            "margin": null,
            "max_height": null,
            "max_width": null,
            "min_height": null,
            "min_width": null,
            "object_fit": null,
            "object_position": null,
            "order": null,
            "overflow": null,
            "overflow_x": null,
            "overflow_y": null,
            "padding": null,
            "right": null,
            "top": null,
            "visibility": null,
            "width": null
          }
        },
        "b1033c6b6bb1464c88b06c0914dbfed8": {
          "model_module": "@jupyter-widgets/base",
          "model_module_version": "1.2.0",
          "model_name": "LayoutModel",
          "state": {
            "_model_module": "@jupyter-widgets/base",
            "_model_module_version": "1.2.0",
            "_model_name": "LayoutModel",
            "_view_count": null,
            "_view_module": "@jupyter-widgets/base",
            "_view_module_version": "1.2.0",
            "_view_name": "LayoutView",
            "align_content": null,
            "align_items": null,
            "align_self": null,
            "border": null,
            "bottom": null,
            "display": null,
            "flex": null,
            "flex_flow": null,
            "grid_area": null,
            "grid_auto_columns": null,
            "grid_auto_flow": null,
            "grid_auto_rows": null,
            "grid_column": null,
            "grid_gap": null,
            "grid_row": null,
            "grid_template_areas": null,
            "grid_template_columns": null,
            "grid_template_rows": null,
            "height": null,
            "justify_content": null,
            "justify_items": null,
            "left": null,
            "margin": null,
            "max_height": null,
            "max_width": null,
            "min_height": null,
            "min_width": null,
            "object_fit": null,
            "object_position": null,
            "order": null,
            "overflow": null,
            "overflow_x": null,
            "overflow_y": null,
            "padding": null,
            "right": null,
            "top": null,
            "visibility": null,
            "width": null
          }
        },
        "b513f50bf2a1479ebb16440f78c33036": {
          "model_module": "@jupyter-widgets/controls",
          "model_module_version": "1.5.0",
          "model_name": "HTMLModel",
          "state": {
            "_dom_classes": [],
            "_model_module": "@jupyter-widgets/controls",
            "_model_module_version": "1.5.0",
            "_model_name": "HTMLModel",
            "_view_count": null,
            "_view_module": "@jupyter-widgets/controls",
            "_view_module_version": "1.5.0",
            "_view_name": "HTMLView",
            "description": "",
            "description_tooltip": null,
            "layout": "IPY_MODEL_c968eef5a8f8487790888ff6301a7101",
            "placeholder": "​",
            "style": "IPY_MODEL_95c6f9e00caf45a5aee2e9425c628bd1",
            "value": "Downloading data: 100%"
          }
        },
        "c07f1b9e6cbc486681e826ea12a2b141": {
          "model_module": "@jupyter-widgets/base",
          "model_module_version": "1.2.0",
          "model_name": "LayoutModel",
          "state": {
            "_model_module": "@jupyter-widgets/base",
            "_model_module_version": "1.2.0",
            "_model_name": "LayoutModel",
            "_view_count": null,
            "_view_module": "@jupyter-widgets/base",
            "_view_module_version": "1.2.0",
            "_view_name": "LayoutView",
            "align_content": null,
            "align_items": null,
            "align_self": null,
            "border": null,
            "bottom": null,
            "display": null,
            "flex": null,
            "flex_flow": null,
            "grid_area": null,
            "grid_auto_columns": null,
            "grid_auto_flow": null,
            "grid_auto_rows": null,
            "grid_column": null,
            "grid_gap": null,
            "grid_row": null,
            "grid_template_areas": null,
            "grid_template_columns": null,
            "grid_template_rows": null,
            "height": null,
            "justify_content": null,
            "justify_items": null,
            "left": null,
            "margin": null,
            "max_height": null,
            "max_width": null,
            "min_height": null,
            "min_width": null,
            "object_fit": null,
            "object_position": null,
            "order": null,
            "overflow": null,
            "overflow_x": null,
            "overflow_y": null,
            "padding": null,
            "right": null,
            "top": null,
            "visibility": null,
            "width": null
          }
        },
        "c16de205a9ac47a8b430e2ee1fbafe1c": {
          "model_module": "@jupyter-widgets/controls",
          "model_module_version": "1.5.0",
          "model_name": "FloatProgressModel",
          "state": {
            "_dom_classes": [],
            "_model_module": "@jupyter-widgets/controls",
            "_model_module_version": "1.5.0",
            "_model_name": "FloatProgressModel",
            "_view_count": null,
            "_view_module": "@jupyter-widgets/controls",
            "_view_module_version": "1.5.0",
            "_view_name": "ProgressView",
            "bar_style": "success",
            "description": "",
            "description_tooltip": null,
            "layout": "IPY_MODEL_04ce521117f74e74a9bff41b764476d9",
            "max": 10539,
            "min": 0,
            "orientation": "horizontal",
            "style": "IPY_MODEL_0a97f177a94949c2a843b9e2b0dd926a",
            "value": 10539
          }
        },
        "c968eef5a8f8487790888ff6301a7101": {
          "model_module": "@jupyter-widgets/base",
          "model_module_version": "1.2.0",
          "model_name": "LayoutModel",
          "state": {
            "_model_module": "@jupyter-widgets/base",
            "_model_module_version": "1.2.0",
            "_model_name": "LayoutModel",
            "_view_count": null,
            "_view_module": "@jupyter-widgets/base",
            "_view_module_version": "1.2.0",
            "_view_name": "LayoutView",
            "align_content": null,
            "align_items": null,
            "align_self": null,
            "border": null,
            "bottom": null,
            "display": null,
            "flex": null,
            "flex_flow": null,
            "grid_area": null,
            "grid_auto_columns": null,
            "grid_auto_flow": null,
            "grid_auto_rows": null,
            "grid_column": null,
            "grid_gap": null,
            "grid_row": null,
            "grid_template_areas": null,
            "grid_template_columns": null,
            "grid_template_rows": null,
            "height": null,
            "justify_content": null,
            "justify_items": null,
            "left": null,
            "margin": null,
            "max_height": null,
            "max_width": null,
            "min_height": null,
            "min_width": null,
            "object_fit": null,
            "object_position": null,
            "order": null,
            "overflow": null,
            "overflow_x": null,
            "overflow_y": null,
            "padding": null,
            "right": null,
            "top": null,
            "visibility": null,
            "width": null
          }
        },
        "ca9c4683593c4f678c9ae429f2ebd56d": {
          "model_module": "@jupyter-widgets/controls",
          "model_module_version": "1.5.0",
          "model_name": "HBoxModel",
          "state": {
            "_dom_classes": [],
            "_model_module": "@jupyter-widgets/controls",
            "_model_module_version": "1.5.0",
            "_model_name": "HBoxModel",
            "_view_count": null,
            "_view_module": "@jupyter-widgets/controls",
            "_view_module_version": "1.5.0",
            "_view_name": "HBoxView",
            "box_style": "",
            "children": [
              "IPY_MODEL_4d54e68cc72248c3a69ee4b5fc039ca7",
              "IPY_MODEL_a077a56467c044478d37175b167ec83c",
              "IPY_MODEL_87696e6b532143e998db24e13e71aa19"
            ],
            "layout": "IPY_MODEL_8d5ad60ee1da4ef4823ed2ebff6a2b35"
          }
        },
        "cd22d3ed64cb42a49a6ccbd1bd239f76": {
          "model_module": "@jupyter-widgets/controls",
          "model_module_version": "1.5.0",
          "model_name": "DescriptionStyleModel",
          "state": {
            "_model_module": "@jupyter-widgets/controls",
            "_model_module_version": "1.5.0",
            "_model_name": "DescriptionStyleModel",
            "_view_count": null,
            "_view_module": "@jupyter-widgets/base",
            "_view_module_version": "1.2.0",
            "_view_name": "StyleView",
            "description_width": ""
          }
        },
        "cf28eb91ca454626a0f7d1dbb739659d": {
          "model_module": "@jupyter-widgets/base",
          "model_module_version": "1.2.0",
          "model_name": "LayoutModel",
          "state": {
            "_model_module": "@jupyter-widgets/base",
            "_model_module_version": "1.2.0",
            "_model_name": "LayoutModel",
            "_view_count": null,
            "_view_module": "@jupyter-widgets/base",
            "_view_module_version": "1.2.0",
            "_view_name": "LayoutView",
            "align_content": null,
            "align_items": null,
            "align_self": null,
            "border": null,
            "bottom": null,
            "display": null,
            "flex": null,
            "flex_flow": null,
            "grid_area": null,
            "grid_auto_columns": null,
            "grid_auto_flow": null,
            "grid_auto_rows": null,
            "grid_column": null,
            "grid_gap": null,
            "grid_row": null,
            "grid_template_areas": null,
            "grid_template_columns": null,
            "grid_template_rows": null,
            "height": null,
            "justify_content": null,
            "justify_items": null,
            "left": null,
            "margin": null,
            "max_height": null,
            "max_width": null,
            "min_height": null,
            "min_width": null,
            "object_fit": null,
            "object_position": null,
            "order": null,
            "overflow": null,
            "overflow_x": null,
            "overflow_y": null,
            "padding": null,
            "right": null,
            "top": null,
            "visibility": null,
            "width": null
          }
        },
        "d3689117b8c84cbfbdc7ac99506c9c19": {
          "model_module": "@jupyter-widgets/controls",
          "model_module_version": "1.5.0",
          "model_name": "HBoxModel",
          "state": {
            "_dom_classes": [],
            "_model_module": "@jupyter-widgets/controls",
            "_model_module_version": "1.5.0",
            "_model_name": "HBoxModel",
            "_view_count": null,
            "_view_module": "@jupyter-widgets/controls",
            "_view_module_version": "1.5.0",
            "_view_name": "HBoxView",
            "box_style": "",
            "children": [
              "IPY_MODEL_b513f50bf2a1479ebb16440f78c33036",
              "IPY_MODEL_01f015a690cb4bf1b90cc27540c3fc6e",
              "IPY_MODEL_998cf5715bdd4eafbfb1e372f33fd49d"
            ],
            "layout": "IPY_MODEL_5a4efe8a43634fb991c5356ff599b366"
          }
        },
        "d41483a1f5204b7e8f3716529536ddc8": {
          "model_module": "@jupyter-widgets/controls",
          "model_module_version": "1.5.0",
          "model_name": "DescriptionStyleModel",
          "state": {
            "_model_module": "@jupyter-widgets/controls",
            "_model_module_version": "1.5.0",
            "_model_name": "DescriptionStyleModel",
            "_view_count": null,
            "_view_module": "@jupyter-widgets/base",
            "_view_module_version": "1.2.0",
            "_view_name": "StyleView",
            "description_width": ""
          }
        },
        "dad3041d6601457194d6fb3a6785365c": {
          "model_module": "@jupyter-widgets/controls",
          "model_module_version": "1.5.0",
          "model_name": "FloatProgressModel",
          "state": {
            "_dom_classes": [],
            "_model_module": "@jupyter-widgets/controls",
            "_model_module_version": "1.5.0",
            "_model_name": "FloatProgressModel",
            "_view_count": null,
            "_view_module": "@jupyter-widgets/controls",
            "_view_module_version": "1.5.0",
            "_view_name": "ProgressView",
            "bar_style": "success",
            "description": "",
            "description_tooltip": null,
            "layout": "IPY_MODEL_cf28eb91ca454626a0f7d1dbb739659d",
            "max": 2815501,
            "min": 0,
            "orientation": "horizontal",
            "style": "IPY_MODEL_f28ac2bd2c46449982542393f0cec833",
            "value": 2815501
          }
        },
        "e075fd06577649259de04aa55c858d19": {
          "model_module": "@jupyter-widgets/controls",
          "model_module_version": "1.5.0",
          "model_name": "ProgressStyleModel",
          "state": {
            "_model_module": "@jupyter-widgets/controls",
            "_model_module_version": "1.5.0",
            "_model_name": "ProgressStyleModel",
            "_view_count": null,
            "_view_module": "@jupyter-widgets/base",
            "_view_module_version": "1.2.0",
            "_view_name": "StyleView",
            "bar_color": null,
            "description_width": ""
          }
        },
        "ebf6342a54c3412ab010bdb62698cdb3": {
          "model_module": "@jupyter-widgets/controls",
          "model_module_version": "1.5.0",
          "model_name": "ProgressStyleModel",
          "state": {
            "_model_module": "@jupyter-widgets/controls",
            "_model_module_version": "1.5.0",
            "_model_name": "ProgressStyleModel",
            "_view_count": null,
            "_view_module": "@jupyter-widgets/base",
            "_view_module_version": "1.2.0",
            "_view_name": "StyleView",
            "bar_color": null,
            "description_width": ""
          }
        },
        "f28ac2bd2c46449982542393f0cec833": {
          "model_module": "@jupyter-widgets/controls",
          "model_module_version": "1.5.0",
          "model_name": "ProgressStyleModel",
          "state": {
            "_model_module": "@jupyter-widgets/controls",
            "_model_module_version": "1.5.0",
            "_model_name": "ProgressStyleModel",
            "_view_count": null,
            "_view_module": "@jupyter-widgets/base",
            "_view_module_version": "1.2.0",
            "_view_name": "StyleView",
            "bar_color": null,
            "description_width": ""
          }
        },
        "f6bb5c119d1b4afda47555ec55788114": {
          "model_module": "@jupyter-widgets/base",
          "model_module_version": "1.2.0",
          "model_name": "LayoutModel",
          "state": {
            "_model_module": "@jupyter-widgets/base",
            "_model_module_version": "1.2.0",
            "_model_name": "LayoutModel",
            "_view_count": null,
            "_view_module": "@jupyter-widgets/base",
            "_view_module_version": "1.2.0",
            "_view_name": "LayoutView",
            "align_content": null,
            "align_items": null,
            "align_self": null,
            "border": null,
            "bottom": null,
            "display": null,
            "flex": null,
            "flex_flow": null,
            "grid_area": null,
            "grid_auto_columns": null,
            "grid_auto_flow": null,
            "grid_auto_rows": null,
            "grid_column": null,
            "grid_gap": null,
            "grid_row": null,
            "grid_template_areas": null,
            "grid_template_columns": null,
            "grid_template_rows": null,
            "height": null,
            "justify_content": null,
            "justify_items": null,
            "left": null,
            "margin": null,
            "max_height": null,
            "max_width": null,
            "min_height": null,
            "min_width": null,
            "object_fit": null,
            "object_position": null,
            "order": null,
            "overflow": null,
            "overflow_x": null,
            "overflow_y": null,
            "padding": null,
            "right": null,
            "top": null,
            "visibility": null,
            "width": null
          }
        },
        "f9f3c72c855048cc9e3be84ddbb8d5d4": {
          "model_module": "@jupyter-widgets/controls",
          "model_module_version": "1.5.0",
          "model_name": "HTMLModel",
          "state": {
            "_dom_classes": [],
            "_model_module": "@jupyter-widgets/controls",
            "_model_module_version": "1.5.0",
            "_model_name": "HTMLModel",
            "_view_count": null,
            "_view_module": "@jupyter-widgets/controls",
            "_view_module_version": "1.5.0",
            "_view_name": "HTMLView",
            "description": "",
            "description_tooltip": null,
            "layout": "IPY_MODEL_9d4ae5aa1ad3435a9d18f37a901cf325",
            "placeholder": "​",
            "style": "IPY_MODEL_210ad43c9a13401ca11b57d10849d232",
            "value": "Generating train split: 100%"
          }
        },
        "ffde049bf11547339d1fe07aa75993d9": {
          "model_module": "@jupyter-widgets/base",
          "model_module_version": "1.2.0",
          "model_name": "LayoutModel",
          "state": {
            "_model_module": "@jupyter-widgets/base",
            "_model_module_version": "1.2.0",
            "_model_name": "LayoutModel",
            "_view_count": null,
            "_view_module": "@jupyter-widgets/base",
            "_view_module_version": "1.2.0",
            "_view_name": "LayoutView",
            "align_content": null,
            "align_items": null,
            "align_self": null,
            "border": null,
            "bottom": null,
            "display": null,
            "flex": null,
            "flex_flow": null,
            "grid_area": null,
            "grid_auto_columns": null,
            "grid_auto_flow": null,
            "grid_auto_rows": null,
            "grid_column": null,
            "grid_gap": null,
            "grid_row": null,
            "grid_template_areas": null,
            "grid_template_columns": null,
            "grid_template_rows": null,
            "height": null,
            "justify_content": null,
            "justify_items": null,
            "left": null,
            "margin": null,
            "max_height": null,
            "max_width": null,
            "min_height": null,
            "min_width": null,
            "object_fit": null,
            "object_position": null,
            "order": null,
            "overflow": null,
            "overflow_x": null,
            "overflow_y": null,
            "padding": null,
            "right": null,
            "top": null,
            "visibility": null,
            "width": null
          }
        }
      }
    }
  },
  "nbformat": 4,
  "nbformat_minor": 0
}